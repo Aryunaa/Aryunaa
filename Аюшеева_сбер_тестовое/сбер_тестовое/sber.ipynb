{
 "cells": [
  {
   "cell_type": "markdown",
   "metadata": {
    "id": "F4anUH1p-RAo"
   },
   "source": [
    "## Библиотеки\n"
   ]
  },
  {
   "cell_type": "code",
   "execution_count": 9,
   "metadata": {},
   "outputs": [
    {
     "name": "stdout",
     "output_type": "stream",
     "text": [
      "Collecting openpyxl\n",
      "  Downloading openpyxl-3.1.5-py2.py3-none-any.whl.metadata (2.5 kB)\n",
      "Collecting et-xmlfile (from openpyxl)\n",
      "  Downloading et_xmlfile-2.0.0-py3-none-any.whl.metadata (2.7 kB)\n",
      "Downloading openpyxl-3.1.5-py2.py3-none-any.whl (250 kB)\n",
      "Downloading et_xmlfile-2.0.0-py3-none-any.whl (18 kB)\n",
      "Installing collected packages: et-xmlfile, openpyxl\n",
      "Successfully installed et-xmlfile-2.0.0 openpyxl-3.1.5\n"
     ]
    }
   ],
   "source": [
    "!pip3 install openpyxl"
   ]
  },
  {
   "cell_type": "code",
   "execution_count": 10,
   "metadata": {
    "colab": {
     "base_uri": "https://localhost:8080/"
    },
    "executionInfo": {
     "elapsed": 7326,
     "status": "ok",
     "timestamp": 1737317204015,
     "user": {
      "displayName": "Ariuna Aiusheeva",
      "userId": "02060270682205182193"
     },
     "user_tz": -180
    },
    "id": "llxRssJLPeBR",
    "outputId": "e8cc7ad0-4fdb-4991-d031-698f2f0c89e6"
   },
   "outputs": [
    {
     "name": "stdout",
     "output_type": "stream",
     "text": [
      "Requirement already satisfied: asttokens==3.0.0 in /home/aryuna/work/Аюшеева_сбер_тестовое/.venv/lib/python3.10/site-packages (from -r requirements.txt (line 1)) (3.0.0)\n",
      "Requirement already satisfied: comm==0.2.2 in /home/aryuna/work/Аюшеева_сбер_тестовое/.venv/lib/python3.10/site-packages (from -r requirements.txt (line 2)) (0.2.2)\n",
      "Requirement already satisfied: contourpy==1.3.1 in /home/aryuna/work/Аюшеева_сбер_тестовое/.venv/lib/python3.10/site-packages (from -r requirements.txt (line 3)) (1.3.1)\n",
      "Requirement already satisfied: cycler==0.12.1 in /home/aryuna/work/Аюшеева_сбер_тестовое/.venv/lib/python3.10/site-packages (from -r requirements.txt (line 4)) (0.12.1)\n",
      "Requirement already satisfied: debugpy==1.8.12 in /home/aryuna/work/Аюшеева_сбер_тестовое/.venv/lib/python3.10/site-packages (from -r requirements.txt (line 5)) (1.8.12)\n",
      "Requirement already satisfied: decorator==5.1.1 in /home/aryuna/work/Аюшеева_сбер_тестовое/.venv/lib/python3.10/site-packages (from -r requirements.txt (line 6)) (5.1.1)\n",
      "Requirement already satisfied: et_xmlfile==2.0.0 in /home/aryuna/work/Аюшеева_сбер_тестовое/.venv/lib/python3.10/site-packages (from -r requirements.txt (line 7)) (2.0.0)\n",
      "Requirement already satisfied: exceptiongroup==1.2.2 in /home/aryuna/work/Аюшеева_сбер_тестовое/.venv/lib/python3.10/site-packages (from -r requirements.txt (line 8)) (1.2.2)\n",
      "Requirement already satisfied: executing==2.1.0 in /home/aryuna/work/Аюшеева_сбер_тестовое/.venv/lib/python3.10/site-packages (from -r requirements.txt (line 9)) (2.1.0)\n",
      "Requirement already satisfied: fonttools==4.55.3 in /home/aryuna/work/Аюшеева_сбер_тестовое/.venv/lib/python3.10/site-packages (from -r requirements.txt (line 10)) (4.55.3)\n",
      "Requirement already satisfied: greenlet==3.1.1 in /home/aryuna/work/Аюшеева_сбер_тестовое/.venv/lib/python3.10/site-packages (from -r requirements.txt (line 11)) (3.1.1)\n",
      "Requirement already satisfied: ipykernel==6.29.5 in /home/aryuna/work/Аюшеева_сбер_тестовое/.venv/lib/python3.10/site-packages (from -r requirements.txt (line 12)) (6.29.5)\n",
      "Requirement already satisfied: ipython==8.31.0 in /home/aryuna/work/Аюшеева_сбер_тестовое/.venv/lib/python3.10/site-packages (from -r requirements.txt (line 13)) (8.31.0)\n",
      "Requirement already satisfied: jedi==0.19.2 in /home/aryuna/work/Аюшеева_сбер_тестовое/.venv/lib/python3.10/site-packages (from -r requirements.txt (line 14)) (0.19.2)\n",
      "Requirement already satisfied: jupyter_client==8.6.3 in /home/aryuna/work/Аюшеева_сбер_тестовое/.venv/lib/python3.10/site-packages (from -r requirements.txt (line 15)) (8.6.3)\n",
      "Requirement already satisfied: jupyter_core==5.7.2 in /home/aryuna/work/Аюшеева_сбер_тестовое/.venv/lib/python3.10/site-packages (from -r requirements.txt (line 16)) (5.7.2)\n",
      "Requirement already satisfied: kiwisolver==1.4.8 in /home/aryuna/work/Аюшеева_сбер_тестовое/.venv/lib/python3.10/site-packages (from -r requirements.txt (line 17)) (1.4.8)\n",
      "Requirement already satisfied: matplotlib==3.10.0 in /home/aryuna/work/Аюшеева_сбер_тестовое/.venv/lib/python3.10/site-packages (from -r requirements.txt (line 18)) (3.10.0)\n",
      "Requirement already satisfied: matplotlib-inline==0.1.7 in /home/aryuna/work/Аюшеева_сбер_тестовое/.venv/lib/python3.10/site-packages (from -r requirements.txt (line 19)) (0.1.7)\n",
      "Requirement already satisfied: nest-asyncio==1.6.0 in /home/aryuna/work/Аюшеева_сбер_тестовое/.venv/lib/python3.10/site-packages (from -r requirements.txt (line 20)) (1.6.0)\n",
      "Requirement already satisfied: numpy==2.2.2 in /home/aryuna/work/Аюшеева_сбер_тестовое/.venv/lib/python3.10/site-packages (from -r requirements.txt (line 21)) (2.2.2)\n",
      "Requirement already satisfied: openpyxl==3.1.5 in /home/aryuna/work/Аюшеева_сбер_тестовое/.venv/lib/python3.10/site-packages (from -r requirements.txt (line 22)) (3.1.5)\n",
      "Requirement already satisfied: packaging==24.2 in /home/aryuna/work/Аюшеева_сбер_тестовое/.venv/lib/python3.10/site-packages (from -r requirements.txt (line 23)) (24.2)\n",
      "Requirement already satisfied: pandas==2.2.3 in /home/aryuna/work/Аюшеева_сбер_тестовое/.venv/lib/python3.10/site-packages (from -r requirements.txt (line 24)) (2.2.3)\n",
      "Requirement already satisfied: pandasql==0.7.3 in /home/aryuna/work/Аюшеева_сбер_тестовое/.venv/lib/python3.10/site-packages (from -r requirements.txt (line 25)) (0.7.3)\n",
      "Requirement already satisfied: parso==0.8.4 in /home/aryuna/work/Аюшеева_сбер_тестовое/.venv/lib/python3.10/site-packages (from -r requirements.txt (line 26)) (0.8.4)\n",
      "Requirement already satisfied: pexpect==4.9.0 in /home/aryuna/work/Аюшеева_сбер_тестовое/.venv/lib/python3.10/site-packages (from -r requirements.txt (line 27)) (4.9.0)\n",
      "Requirement already satisfied: pillow==11.1.0 in /home/aryuna/work/Аюшеева_сбер_тестовое/.venv/lib/python3.10/site-packages (from -r requirements.txt (line 28)) (11.1.0)\n",
      "Requirement already satisfied: platformdirs==4.3.6 in /home/aryuna/work/Аюшеева_сбер_тестовое/.venv/lib/python3.10/site-packages (from -r requirements.txt (line 29)) (4.3.6)\n",
      "Requirement already satisfied: prompt_toolkit==3.0.50 in /home/aryuna/work/Аюшеева_сбер_тестовое/.venv/lib/python3.10/site-packages (from -r requirements.txt (line 30)) (3.0.50)\n",
      "Requirement already satisfied: psutil==6.1.1 in /home/aryuna/work/Аюшеева_сбер_тестовое/.venv/lib/python3.10/site-packages (from -r requirements.txt (line 31)) (6.1.1)\n",
      "Requirement already satisfied: ptyprocess==0.7.0 in /home/aryuna/work/Аюшеева_сбер_тестовое/.venv/lib/python3.10/site-packages (from -r requirements.txt (line 32)) (0.7.0)\n",
      "Requirement already satisfied: pure_eval==0.2.3 in /home/aryuna/work/Аюшеева_сбер_тестовое/.venv/lib/python3.10/site-packages (from -r requirements.txt (line 33)) (0.2.3)\n",
      "Requirement already satisfied: Pygments==2.19.1 in /home/aryuna/work/Аюшеева_сбер_тестовое/.venv/lib/python3.10/site-packages (from -r requirements.txt (line 34)) (2.19.1)\n",
      "Requirement already satisfied: pyparsing==3.2.1 in /home/aryuna/work/Аюшеева_сбер_тестовое/.venv/lib/python3.10/site-packages (from -r requirements.txt (line 35)) (3.2.1)\n",
      "Requirement already satisfied: python-dateutil==2.9.0.post0 in /home/aryuna/work/Аюшеева_сбер_тестовое/.venv/lib/python3.10/site-packages (from -r requirements.txt (line 36)) (2.9.0.post0)\n",
      "Requirement already satisfied: pytz==2024.2 in /home/aryuna/work/Аюшеева_сбер_тестовое/.venv/lib/python3.10/site-packages (from -r requirements.txt (line 37)) (2024.2)\n",
      "Requirement already satisfied: pyzmq==26.2.0 in /home/aryuna/work/Аюшеева_сбер_тестовое/.venv/lib/python3.10/site-packages (from -r requirements.txt (line 38)) (26.2.0)\n",
      "Requirement already satisfied: seaborn==0.13.2 in /home/aryuna/work/Аюшеева_сбер_тестовое/.venv/lib/python3.10/site-packages (from -r requirements.txt (line 39)) (0.13.2)\n",
      "Requirement already satisfied: six==1.17.0 in /home/aryuna/work/Аюшеева_сбер_тестовое/.venv/lib/python3.10/site-packages (from -r requirements.txt (line 40)) (1.17.0)\n",
      "Requirement already satisfied: SQLAlchemy==2.0.37 in /home/aryuna/work/Аюшеева_сбер_тестовое/.venv/lib/python3.10/site-packages (from -r requirements.txt (line 41)) (2.0.37)\n",
      "Requirement already satisfied: stack-data==0.6.3 in /home/aryuna/work/Аюшеева_сбер_тестовое/.venv/lib/python3.10/site-packages (from -r requirements.txt (line 42)) (0.6.3)\n",
      "Requirement already satisfied: tornado==6.4.2 in /home/aryuna/work/Аюшеева_сбер_тестовое/.venv/lib/python3.10/site-packages (from -r requirements.txt (line 43)) (6.4.2)\n",
      "Requirement already satisfied: traitlets==5.14.3 in /home/aryuna/work/Аюшеева_сбер_тестовое/.venv/lib/python3.10/site-packages (from -r requirements.txt (line 44)) (5.14.3)\n",
      "Requirement already satisfied: typing_extensions==4.12.2 in /home/aryuna/work/Аюшеева_сбер_тестовое/.venv/lib/python3.10/site-packages (from -r requirements.txt (line 45)) (4.12.2)\n",
      "Requirement already satisfied: tzdata==2024.2 in /home/aryuna/work/Аюшеева_сбер_тестовое/.venv/lib/python3.10/site-packages (from -r requirements.txt (line 46)) (2024.2)\n",
      "Requirement already satisfied: wcwidth==0.2.13 in /home/aryuna/work/Аюшеева_сбер_тестовое/.venv/lib/python3.10/site-packages (from -r requirements.txt (line 47)) (0.2.13)\n"
     ]
    }
   ],
   "source": [
    "!pip3 freeze > requirements.txt\n",
    "!pip3 install -r requirements.txt"
   ]
  },
  {
   "cell_type": "code",
   "execution_count": 11,
   "metadata": {
    "executionInfo": {
     "elapsed": 6,
     "status": "ok",
     "timestamp": 1737317204015,
     "user": {
      "displayName": "Ariuna Aiusheeva",
      "userId": "02060270682205182193"
     },
     "user_tz": -180
    },
    "id": "pQwWo4gwA6gc"
   },
   "outputs": [],
   "source": [
    "import os\n",
    "import pandas as pd\n",
    "import pandasql as ps\n",
    "from pandasql import sqldf\n",
    "import random\n",
    "import seaborn as sns\n",
    "import matplotlib.pyplot as plt"
   ]
  },
  {
   "cell_type": "markdown",
   "metadata": {
    "id": "x5IXE_K3Ab3b"
   },
   "source": [
    "## Файлы"
   ]
  },
  {
   "cell_type": "code",
   "execution_count": 7,
   "metadata": {
    "colab": {
     "base_uri": "https://localhost:8080/"
    },
    "executionInfo": {
     "elapsed": 8438,
     "status": "ok",
     "timestamp": 1737317212448,
     "user": {
      "displayName": "Ariuna Aiusheeva",
      "userId": "02060270682205182193"
     },
     "user_tz": -180
    },
    "id": "994pRWEmClrP",
    "outputId": "ff088216-6e11-43f8-c9e3-3084954e6178"
   },
   "outputs": [
    {
     "data": {
      "text/plain": [
       "['Задание по python 2.docx',\n",
       " 'sber.ipynb',\n",
       " 'Задание по аналитике2.xlsx',\n",
       " 'Задание по аналитике2.docx',\n",
       " 'Список КМ.xlsx',\n",
       " 'requirements.txt',\n",
       " 'Список ИНН.xlsx']"
      ]
     },
     "execution_count": 7,
     "metadata": {},
     "output_type": "execute_result"
    }
   ],
   "source": [
    "path = '.'\n",
    "os.listdir(path)"
   ]
  },
  {
   "cell_type": "markdown",
   "metadata": {
    "id": "zaDwKU51-yPX"
   },
   "source": [
    "## Задание по аналитике2\n",
    "\n"
   ]
  },
  {
   "cell_type": "code",
   "execution_count": 14,
   "metadata": {
    "colab": {
     "base_uri": "https://localhost:8080/"
    },
    "executionInfo": {
     "elapsed": 22147,
     "status": "ok",
     "timestamp": 1737304205694,
     "user": {
      "displayName": "Ariuna Aiusheeva",
      "userId": "02060270682205182193"
     },
     "user_tz": -180
    },
    "id": "E6Jb-_gm-QfQ",
    "outputId": "f144aef7-47e2-4cb6-b911-5ecae1474121"
   },
   "outputs": [
    {
     "data": {
      "text/html": [
       "<div>\n",
       "<style scoped>\n",
       "    .dataframe tbody tr th:only-of-type {\n",
       "        vertical-align: middle;\n",
       "    }\n",
       "\n",
       "    .dataframe tbody tr th {\n",
       "        vertical-align: top;\n",
       "    }\n",
       "\n",
       "    .dataframe thead th {\n",
       "        text-align: right;\n",
       "    }\n",
       "</style>\n",
       "<table border=\"1\" class=\"dataframe\">\n",
       "  <thead>\n",
       "    <tr style=\"text-align: right;\">\n",
       "      <th></th>\n",
       "      <th>CREATE_DT</th>\n",
       "      <th>CHANNEL</th>\n",
       "      <th>CANCEL_FLG</th>\n",
       "      <th>NOTBE_FLG</th>\n",
       "      <th>AGRY_FLG</th>\n",
       "      <th>PRODUCT_NM</th>\n",
       "      <th>AGREEMENT</th>\n",
       "      <th>APPL</th>\n",
       "    </tr>\n",
       "  </thead>\n",
       "  <tbody>\n",
       "    <tr>\n",
       "      <th>0</th>\n",
       "      <td>2021-09-17</td>\n",
       "      <td>Канал 1</td>\n",
       "      <td>0</td>\n",
       "      <td>0</td>\n",
       "      <td>0</td>\n",
       "      <td>Продукт 1</td>\n",
       "      <td>0</td>\n",
       "      <td>0</td>\n",
       "    </tr>\n",
       "    <tr>\n",
       "      <th>1</th>\n",
       "      <td>2021-09-20</td>\n",
       "      <td>Канал 1</td>\n",
       "      <td>0</td>\n",
       "      <td>0</td>\n",
       "      <td>0</td>\n",
       "      <td>Продукт 1</td>\n",
       "      <td>0</td>\n",
       "      <td>0</td>\n",
       "    </tr>\n",
       "    <tr>\n",
       "      <th>2</th>\n",
       "      <td>2021-09-20</td>\n",
       "      <td>Канал 1</td>\n",
       "      <td>0</td>\n",
       "      <td>0</td>\n",
       "      <td>1</td>\n",
       "      <td>Продукт 1</td>\n",
       "      <td>0</td>\n",
       "      <td>0</td>\n",
       "    </tr>\n",
       "    <tr>\n",
       "      <th>3</th>\n",
       "      <td>2021-09-20</td>\n",
       "      <td>Канал 1</td>\n",
       "      <td>1</td>\n",
       "      <td>0</td>\n",
       "      <td>0</td>\n",
       "      <td>Продукт 1</td>\n",
       "      <td>0</td>\n",
       "      <td>1</td>\n",
       "    </tr>\n",
       "    <tr>\n",
       "      <th>4</th>\n",
       "      <td>2021-09-20</td>\n",
       "      <td>Канал 1</td>\n",
       "      <td>0</td>\n",
       "      <td>0</td>\n",
       "      <td>0</td>\n",
       "      <td>Продукт 1</td>\n",
       "      <td>0</td>\n",
       "      <td>0</td>\n",
       "    </tr>\n",
       "  </tbody>\n",
       "</table>\n",
       "</div>"
      ],
      "text/plain": [
       "   CREATE_DT  CHANNEL  CANCEL_FLG  NOTBE_FLG  AGRY_FLG PRODUCT_NM  AGREEMENT  \\\n",
       "0 2021-09-17  Канал 1           0          0         0  Продукт 1          0   \n",
       "1 2021-09-20  Канал 1           0          0         0  Продукт 1          0   \n",
       "2 2021-09-20  Канал 1           0          0         1  Продукт 1          0   \n",
       "3 2021-09-20  Канал 1           1          0         0  Продукт 1          0   \n",
       "4 2021-09-20  Канал 1           0          0         0  Продукт 1          0   \n",
       "\n",
       "   APPL  \n",
       "0     0  \n",
       "1     0  \n",
       "2     0  \n",
       "3     1  \n",
       "4     0  "
      ]
     },
     "execution_count": 14,
     "metadata": {},
     "output_type": "execute_result"
    }
   ],
   "source": [
    "analyst_file = pd.read_excel(os.path.join(path, 'Задание по аналитике2.xlsx'))\n",
    "analyst_file.head()\n"
   ]
  },
  {
   "cell_type": "markdown",
   "metadata": {
    "id": "LArOwxPfGNb1"
   },
   "source": [
    "### Описание задачи"
   ]
  },
  {
   "cell_type": "markdown",
   "metadata": {
    "id": "MJMe8cOxD9Qd"
   },
   "source": [
    "**Описание бизнес-процесса:**\n",
    "\n",
    "существует несколько каналов коммуникаций с клиентами, по результатам коммуникаций клиент либо оформляет продукт (есть подписание договора или заявки) либо нет. Коммуникации могут состояться с разным вариантом: есть ситуации отмены (тех. проблемы), есть ситуации, когда коммуникация не была просмотрена клиентом и есть прочитанные клиентом коммуникации, в рамках которых клиент может перейти по ссылке (реакция клиента), а может и не отреагировать. При этом возможны случаи, когда клиент самостоятельно может оформить продукт, независимо от статуса коммуникации.\n",
    "\n",
    "**Описание data-set:** выгрузка коммуникаций за 3 месяца в разрезе разных признаков (см. Описание полей data-set).\n",
    "\n",
    "\n",
    "**Что требуется:**\n",
    "- Определить канал где больше всего тех. проблем.\n",
    "\n",
    "- Определить месяц с большей долей тех. проблем.\n",
    "\n",
    "- Определить продукт, коммуникации по которому меньше всего доходят до клиента (клиент ее не видит) и это не связано с тех. проблемами\n",
    "\n",
    "- Определить продукт, к которому клиенты не проявляют интереса\n",
    "\n",
    "- Определить связку канал-продукт, по которой было больше всего коммуникаций за месяц\n",
    "\n",
    "- Определить канал, от которого больше всего эффект (доля продаж через коммуникации выше чем доля самостоятельных «покупок» клиента не связанных с коммуникацией).\n",
    "\n",
    "**Дополнительно:**\n",
    "\n",
    "CREATE_DT\n",
    " Дата отправки коммуникации\n",
    "\n",
    "CHANNEL\n",
    " Канал коммуникации\n",
    "\n",
    "CANCEL_FLG\n",
    " Признак что коммуникация была отменена\n",
    "\n",
    "NOTBE_FLG\n",
    " Признак что коммуникация не состоялась (клиент ее не увидел)\n",
    "\n",
    "AGRY_FLG\n",
    " Признак что коммуникация завершилась успехом (клиент ее увидел и отреагировал)\n",
    "\n",
    "PRODUCT_NM\n",
    " Продукт\n",
    "\n",
    "AGREEMENT\n",
    " Признак наличия договора\n",
    "\n",
    "APPL\n",
    " Признак наличия заявки\n",
    "\n"
   ]
  },
  {
   "cell_type": "markdown",
   "metadata": {
    "id": "NzURvAkYGJFA"
   },
   "source": [
    "### Определить канал где больше всего тех. проблем."
   ]
  },
  {
   "cell_type": "code",
   "execution_count": 15,
   "metadata": {
    "colab": {
     "base_uri": "https://localhost:8080/"
    },
    "executionInfo": {
     "elapsed": 8,
     "status": "ok",
     "timestamp": 1737304205694,
     "user": {
      "displayName": "Ariuna Aiusheeva",
      "userId": "02060270682205182193"
     },
     "user_tz": -180
    },
    "id": "KEUOE859GWs2",
    "outputId": "9cc35b02-64fd-4a72-9dad-2c8f7788cad1"
   },
   "outputs": [
    {
     "data": {
      "text/html": [
       "<div>\n",
       "<style scoped>\n",
       "    .dataframe tbody tr th:only-of-type {\n",
       "        vertical-align: middle;\n",
       "    }\n",
       "\n",
       "    .dataframe tbody tr th {\n",
       "        vertical-align: top;\n",
       "    }\n",
       "\n",
       "    .dataframe thead th {\n",
       "        text-align: right;\n",
       "    }\n",
       "</style>\n",
       "<table border=\"1\" class=\"dataframe\">\n",
       "  <thead>\n",
       "    <tr style=\"text-align: right;\">\n",
       "      <th></th>\n",
       "      <th>CHANNEL</th>\n",
       "      <th>CANCEL_FLG</th>\n",
       "    </tr>\n",
       "  </thead>\n",
       "  <tbody>\n",
       "    <tr>\n",
       "      <th>0</th>\n",
       "      <td>Канал 1</td>\n",
       "      <td>7407</td>\n",
       "    </tr>\n",
       "    <tr>\n",
       "      <th>1</th>\n",
       "      <td>Канал 2</td>\n",
       "      <td>101</td>\n",
       "    </tr>\n",
       "    <tr>\n",
       "      <th>2</th>\n",
       "      <td>Канал 3</td>\n",
       "      <td>3463</td>\n",
       "    </tr>\n",
       "    <tr>\n",
       "      <th>3</th>\n",
       "      <td>Канал 5</td>\n",
       "      <td>21537</td>\n",
       "    </tr>\n",
       "    <tr>\n",
       "      <th>4</th>\n",
       "      <td>Канал 6</td>\n",
       "      <td>2070</td>\n",
       "    </tr>\n",
       "  </tbody>\n",
       "</table>\n",
       "</div>"
      ],
      "text/plain": [
       "   CHANNEL  CANCEL_FLG\n",
       "0  Канал 1        7407\n",
       "1  Канал 2         101\n",
       "2  Канал 3        3463\n",
       "3  Канал 5       21537\n",
       "4  Канал 6        2070"
      ]
     },
     "execution_count": 15,
     "metadata": {},
     "output_type": "execute_result"
    }
   ],
   "source": [
    "(analyst_file[['CANCEL_FLG', 'CHANNEL']].groupby('CHANNEL').agg('sum').reset_index())"
   ]
  },
  {
   "cell_type": "markdown",
   "metadata": {
    "id": "Zo0NXAQdIZ0w"
   },
   "source": [
    "Ответ - канал 5"
   ]
  },
  {
   "cell_type": "markdown",
   "metadata": {
    "id": "gvLvrITjIfFx"
   },
   "source": [
    "### Определить месяц с большей долей тех. проблем."
   ]
  },
  {
   "cell_type": "code",
   "execution_count": 16,
   "metadata": {
    "id": "WbfYnReMLzxD"
   },
   "outputs": [],
   "source": [
    "analyst_file['month']=analyst_file['CREATE_DT'].dt.month_name()"
   ]
  },
  {
   "cell_type": "code",
   "execution_count": 17,
   "metadata": {
    "colab": {
     "base_uri": "https://localhost:8080/"
    },
    "executionInfo": {
     "elapsed": 6,
     "status": "ok",
     "timestamp": 1737304205694,
     "user": {
      "displayName": "Ariuna Aiusheeva",
      "userId": "02060270682205182193"
     },
     "user_tz": -180
    },
    "id": "fjb7n4xUIm_4",
    "outputId": "9fd3d7ba-9163-4bd2-f758-dc5752bb3cf1"
   },
   "outputs": [
    {
     "data": {
      "text/html": [
       "<div>\n",
       "<style scoped>\n",
       "    .dataframe tbody tr th:only-of-type {\n",
       "        vertical-align: middle;\n",
       "    }\n",
       "\n",
       "    .dataframe tbody tr th {\n",
       "        vertical-align: top;\n",
       "    }\n",
       "\n",
       "    .dataframe thead tr th {\n",
       "        text-align: left;\n",
       "    }\n",
       "\n",
       "    .dataframe thead tr:last-of-type th {\n",
       "        text-align: right;\n",
       "    }\n",
       "</style>\n",
       "<table border=\"1\" class=\"dataframe\">\n",
       "  <thead>\n",
       "    <tr>\n",
       "      <th></th>\n",
       "      <th colspan=\"2\" halign=\"left\">CANCEL_FLG</th>\n",
       "      <th>percent</th>\n",
       "    </tr>\n",
       "    <tr>\n",
       "      <th></th>\n",
       "      <th>sum</th>\n",
       "      <th>count</th>\n",
       "      <th></th>\n",
       "    </tr>\n",
       "    <tr>\n",
       "      <th>month</th>\n",
       "      <th></th>\n",
       "      <th></th>\n",
       "      <th></th>\n",
       "    </tr>\n",
       "  </thead>\n",
       "  <tbody>\n",
       "    <tr>\n",
       "      <th>October</th>\n",
       "      <td>15122</td>\n",
       "      <td>50279</td>\n",
       "      <td>0.300762</td>\n",
       "    </tr>\n",
       "  </tbody>\n",
       "</table>\n",
       "</div>"
      ],
      "text/plain": [
       "        CANCEL_FLG          percent\n",
       "               sum  count          \n",
       "month                              \n",
       "October      15122  50279  0.300762"
      ]
     },
     "execution_count": 17,
     "metadata": {},
     "output_type": "execute_result"
    }
   ],
   "source": [
    "tech_troubles = analyst_file[['CANCEL_FLG', 'month']].groupby('month', as_index = True).agg(['sum', 'count'])\n",
    "tech_troubles['percent']= tech_troubles[('CANCEL_FLG',   'sum')]/tech_troubles[('CANCEL_FLG',   'count')]\n",
    "tech_troubles[tech_troubles['percent']==tech_troubles['percent'].max()]"
   ]
  },
  {
   "cell_type": "markdown",
   "metadata": {
    "id": "EWLWVxTWLfMy"
   },
   "source": [
    "Ответ: Октябрь"
   ]
  },
  {
   "cell_type": "markdown",
   "metadata": {
    "id": "Bq4WERyuMRhl"
   },
   "source": [
    "### Определить продукт, коммуникации по которому меньше всего доходят до клиента (клиент ее не видит) и это не связано с тех. проблемами"
   ]
  },
  {
   "cell_type": "code",
   "execution_count": 18,
   "metadata": {
    "colab": {
     "base_uri": "https://localhost:8080/"
    },
    "executionInfo": {
     "elapsed": 2948,
     "status": "ok",
     "timestamp": 1737304208637,
     "user": {
      "displayName": "Ariuna Aiusheeva",
      "userId": "02060270682205182193"
     },
     "user_tz": -180
    },
    "id": "EtWHWM8EOfEx",
    "outputId": "a9932827-9e45-4116-b068-d6930ed7c459"
   },
   "outputs": [
    {
     "data": {
      "text/html": [
       "<div>\n",
       "<style scoped>\n",
       "    .dataframe tbody tr th:only-of-type {\n",
       "        vertical-align: middle;\n",
       "    }\n",
       "\n",
       "    .dataframe tbody tr th {\n",
       "        vertical-align: top;\n",
       "    }\n",
       "\n",
       "    .dataframe thead th {\n",
       "        text-align: right;\n",
       "    }\n",
       "</style>\n",
       "<table border=\"1\" class=\"dataframe\">\n",
       "  <thead>\n",
       "    <tr style=\"text-align: right;\">\n",
       "      <th></th>\n",
       "      <th>PRODUCT_NM</th>\n",
       "      <th>sum_notbe</th>\n",
       "    </tr>\n",
       "  </thead>\n",
       "  <tbody>\n",
       "    <tr>\n",
       "      <th>0</th>\n",
       "      <td>Продукт 14</td>\n",
       "      <td>9167</td>\n",
       "    </tr>\n",
       "    <tr>\n",
       "      <th>1</th>\n",
       "      <td>Продукт 4</td>\n",
       "      <td>6404</td>\n",
       "    </tr>\n",
       "    <tr>\n",
       "      <th>2</th>\n",
       "      <td>Продукт 6</td>\n",
       "      <td>5635</td>\n",
       "    </tr>\n",
       "  </tbody>\n",
       "</table>\n",
       "</div>"
      ],
      "text/plain": [
       "   PRODUCT_NM  sum_notbe\n",
       "0  Продукт 14       9167\n",
       "1   Продукт 4       6404\n",
       "2   Продукт 6       5635"
      ]
     },
     "execution_count": 18,
     "metadata": {},
     "output_type": "execute_result"
    }
   ],
   "source": [
    "sqldf(\"\"\"\n",
    "select PRODUCT_NM, sum(NOTBE_FLG) as sum_notbe\n",
    "from analyst_file\n",
    "where CANCEL_FLG!=1\n",
    "group by PRODUCT_NM\n",
    "order by sum_notbe desc\n",
    "LIMIT 3\n",
    "\"\"\")"
   ]
  },
  {
   "cell_type": "markdown",
   "metadata": {
    "id": "OVfJidoISRKv"
   },
   "source": [
    "Ответ: Продукт 14"
   ]
  },
  {
   "cell_type": "markdown",
   "metadata": {
    "id": "FRo3RyFIUeii"
   },
   "source": [
    "### Определить продукт, к которому клиенты не проявляют интереса"
   ]
  },
  {
   "cell_type": "code",
   "execution_count": 19,
   "metadata": {
    "colab": {
     "base_uri": "https://localhost:8080/"
    },
    "executionInfo": {
     "elapsed": 3873,
     "status": "ok",
     "timestamp": 1737304212508,
     "user": {
      "displayName": "Ariuna Aiusheeva",
      "userId": "02060270682205182193"
     },
     "user_tz": -180
    },
    "id": "vZ_Vm8xUWkUp",
    "outputId": "c46f6b5f-bfec-406c-ab41-0339b7f35732"
   },
   "outputs": [
    {
     "data": {
      "text/html": [
       "<div>\n",
       "<style scoped>\n",
       "    .dataframe tbody tr th:only-of-type {\n",
       "        vertical-align: middle;\n",
       "    }\n",
       "\n",
       "    .dataframe tbody tr th {\n",
       "        vertical-align: top;\n",
       "    }\n",
       "\n",
       "    .dataframe thead th {\n",
       "        text-align: right;\n",
       "    }\n",
       "</style>\n",
       "<table border=\"1\" class=\"dataframe\">\n",
       "  <thead>\n",
       "    <tr style=\"text-align: right;\">\n",
       "      <th></th>\n",
       "      <th>PRODUCT_NM</th>\n",
       "      <th>sum_interested</th>\n",
       "    </tr>\n",
       "  </thead>\n",
       "  <tbody>\n",
       "    <tr>\n",
       "      <th>0</th>\n",
       "      <td>Продукт 3</td>\n",
       "      <td>13</td>\n",
       "    </tr>\n",
       "    <tr>\n",
       "      <th>1</th>\n",
       "      <td>Продукт 9</td>\n",
       "      <td>82</td>\n",
       "    </tr>\n",
       "    <tr>\n",
       "      <th>2</th>\n",
       "      <td>Продукт 15</td>\n",
       "      <td>86</td>\n",
       "    </tr>\n",
       "  </tbody>\n",
       "</table>\n",
       "</div>"
      ],
      "text/plain": [
       "   PRODUCT_NM  sum_interested\n",
       "0   Продукт 3              13\n",
       "1   Продукт 9              82\n",
       "2  Продукт 15              86"
      ]
     },
     "execution_count": 19,
     "metadata": {},
     "output_type": "execute_result"
    }
   ],
   "source": [
    "sqldf(\"\"\"\n",
    "select PRODUCT_NM, sum(AGRY_FLG) as sum_interested\n",
    "from analyst_file\n",
    "where CANCEL_FLG!=1 and NOTBE_FLG!=1\n",
    "group by PRODUCT_NM\n",
    "order by sum_interested asc\n",
    "LIMIT 3\n",
    "\"\"\")"
   ]
  },
  {
   "cell_type": "markdown",
   "metadata": {
    "id": "prIfjbx0XaTY"
   },
   "source": [
    "Ответ: Продукт 3"
   ]
  },
  {
   "cell_type": "markdown",
   "metadata": {
    "id": "IlxDrpdMX1r2"
   },
   "source": [
    "### Определить связку канал-продукт, по которой было больше всего коммуникаций за месяц"
   ]
  },
  {
   "cell_type": "markdown",
   "metadata": {
    "id": "c40yuigjnZe0"
   },
   "source": [
    "Если считать, что поле **AGRY_FLG** отвечает как признак наличия успешной коммуникации, то"
   ]
  },
  {
   "cell_type": "code",
   "execution_count": 20,
   "metadata": {
    "colab": {
     "base_uri": "https://localhost:8080/"
    },
    "executionInfo": {
     "elapsed": 3,
     "status": "ok",
     "timestamp": 1737304212508,
     "user": {
      "displayName": "Ariuna Aiusheeva",
      "userId": "02060270682205182193"
     },
     "user_tz": -180
    },
    "id": "0k9n5R9ZZ6km",
    "outputId": "ea753e68-bbaa-4c23-cc09-31cbcb65c3f7"
   },
   "outputs": [
    {
     "data": {
      "text/plain": [
       "array(['September', 'October', 'November'], dtype=object)"
      ]
     },
     "execution_count": 20,
     "metadata": {},
     "output_type": "execute_result"
    }
   ],
   "source": [
    "analyst_file['month'].unique()"
   ]
  },
  {
   "cell_type": "code",
   "execution_count": 21,
   "metadata": {
    "colab": {
     "base_uri": "https://localhost:8080/"
    },
    "executionInfo": {
     "elapsed": 2434,
     "status": "ok",
     "timestamp": 1737304214940,
     "user": {
      "displayName": "Ariuna Aiusheeva",
      "userId": "02060270682205182193"
     },
     "user_tz": -180
    },
    "id": "K-3EkF00X6Gi",
    "outputId": "7762ebe0-ec9c-49e7-e65e-8f665c465ea3"
   },
   "outputs": [
    {
     "data": {
      "text/html": [
       "<div>\n",
       "<style scoped>\n",
       "    .dataframe tbody tr th:only-of-type {\n",
       "        vertical-align: middle;\n",
       "    }\n",
       "\n",
       "    .dataframe tbody tr th {\n",
       "        vertical-align: top;\n",
       "    }\n",
       "\n",
       "    .dataframe thead th {\n",
       "        text-align: right;\n",
       "    }\n",
       "</style>\n",
       "<table border=\"1\" class=\"dataframe\">\n",
       "  <thead>\n",
       "    <tr style=\"text-align: right;\">\n",
       "      <th></th>\n",
       "      <th>CHANNEL</th>\n",
       "      <th>PRODUCT_NM</th>\n",
       "      <th>com_num</th>\n",
       "    </tr>\n",
       "  </thead>\n",
       "  <tbody>\n",
       "    <tr>\n",
       "      <th>0</th>\n",
       "      <td>Канал 1</td>\n",
       "      <td>Продукт 8</td>\n",
       "      <td>8528</td>\n",
       "    </tr>\n",
       "  </tbody>\n",
       "</table>\n",
       "</div>"
      ],
      "text/plain": [
       "   CHANNEL PRODUCT_NM  com_num\n",
       "0  Канал 1  Продукт 8     8528"
      ]
     },
     "execution_count": 21,
     "metadata": {},
     "output_type": "execute_result"
    }
   ],
   "source": [
    "analyst_file[['CHANNEL', 'PRODUCT_NM', 'month']]\n",
    "\n",
    "sqldf(\"\"\"\n",
    "select CHANNEL, PRODUCT_NM, sum(AGRY_FLG) as com_num\n",
    "from analyst_file\n",
    "where month = 'November'\n",
    "group by CHANNEL, PRODUCT_NM\n",
    "order by com_num desc\n",
    "LIMIT 1\n",
    "\"\"\")"
   ]
  },
  {
   "cell_type": "markdown",
   "metadata": {
    "id": "DlXtL9l3aPgd"
   },
   "source": [
    "Ответ: больше всего **успешных** коммуникаций за ноябрь было у связки Канал 1 - Продукт 8"
   ]
  },
  {
   "cell_type": "markdown",
   "metadata": {
    "id": "tnj4xbiKq2Lj"
   },
   "source": [
    "- **Если иметь ввиду не наличие успешной коммуникации, а сам факт ее рассылки**\n",
    "\n",
    "- Если считать поля **CANCEL_FLG** и **NOT_BE_FLG** как признаки отсутствия коммуникации\n",
    "\n",
    "то"
   ]
  },
  {
   "cell_type": "code",
   "execution_count": 22,
   "metadata": {
    "colab": {
     "base_uri": "https://localhost:8080/"
    },
    "executionInfo": {
     "elapsed": 2220,
     "status": "ok",
     "timestamp": 1737304217158,
     "user": {
      "displayName": "Ariuna Aiusheeva",
      "userId": "02060270682205182193"
     },
     "user_tz": -180
    },
    "id": "1GPPNp38rLtm",
    "outputId": "da97c3e0-d047-4ba0-dc30-c5b5346d085c"
   },
   "outputs": [
    {
     "data": {
      "text/html": [
       "<div>\n",
       "<style scoped>\n",
       "    .dataframe tbody tr th:only-of-type {\n",
       "        vertical-align: middle;\n",
       "    }\n",
       "\n",
       "    .dataframe tbody tr th {\n",
       "        vertical-align: top;\n",
       "    }\n",
       "\n",
       "    .dataframe thead th {\n",
       "        text-align: right;\n",
       "    }\n",
       "</style>\n",
       "<table border=\"1\" class=\"dataframe\">\n",
       "  <thead>\n",
       "    <tr style=\"text-align: right;\">\n",
       "      <th></th>\n",
       "      <th>CHANNEL</th>\n",
       "      <th>PRODUCT_NM</th>\n",
       "      <th>com_num</th>\n",
       "    </tr>\n",
       "  </thead>\n",
       "  <tbody>\n",
       "    <tr>\n",
       "      <th>0</th>\n",
       "      <td>Канал 5</td>\n",
       "      <td>Продукт 14</td>\n",
       "      <td>19458</td>\n",
       "    </tr>\n",
       "  </tbody>\n",
       "</table>\n",
       "</div>"
      ],
      "text/plain": [
       "   CHANNEL  PRODUCT_NM  com_num\n",
       "0  Канал 5  Продукт 14    19458"
      ]
     },
     "execution_count": 22,
     "metadata": {},
     "output_type": "execute_result"
    }
   ],
   "source": [
    "sqldf(\"\"\"\n",
    "select CHANNEL, PRODUCT_NM, count(CHANNEL) as com_num\n",
    "from analyst_file\n",
    "where month = 'November'  and (CANCEL_FLG!=1 or NOTBE_FLG!=1)\n",
    "group by CHANNEL, PRODUCT_NM\n",
    "order by com_num desc\n",
    "LIMIT 1\n",
    "\"\"\")"
   ]
  },
  {
   "cell_type": "markdown",
   "metadata": {
    "id": "vta7ON-Zs61b"
   },
   "source": [
    "Ответ: больше всего успешных коммуникаций за ноябрь было у связки Канал 5 - Продукт 14"
   ]
  },
  {
   "cell_type": "markdown",
   "metadata": {
    "id": "I6zpttGQaa7H"
   },
   "source": [
    " ### Определить канал, от которого больше всего эффект (доля продаж через коммуникации выше чем доля самостоятельных «покупок» клиента не связанных с коммуникацией)."
   ]
  },
  {
   "cell_type": "markdown",
   "metadata": {
    "id": "dOTfwIoXoWBK"
   },
   "source": [
    "Если считать, что:\n",
    "\n",
    "- поле **AGRY_FLG** как признак присутствия успешной коммуникации\n",
    "\n",
    "то"
   ]
  },
  {
   "cell_type": "code",
   "execution_count": 68,
   "metadata": {
    "colab": {
     "base_uri": "https://localhost:8080/"
    },
    "executionInfo": {
     "elapsed": 2197,
     "status": "ok",
     "timestamp": 1737304219353,
     "user": {
      "displayName": "Ariuna Aiusheeva",
      "userId": "02060270682205182193"
     },
     "user_tz": -180
    },
    "id": "PPzvZLOLkleP",
    "outputId": "a9b1e5d9-139c-4c0e-b9d8-3c0545c71609"
   },
   "outputs": [
    {
     "data": {
      "text/html": [
       "<div>\n",
       "<style scoped>\n",
       "    .dataframe tbody tr th:only-of-type {\n",
       "        vertical-align: middle;\n",
       "    }\n",
       "\n",
       "    .dataframe tbody tr th {\n",
       "        vertical-align: top;\n",
       "    }\n",
       "\n",
       "    .dataframe thead th {\n",
       "        text-align: right;\n",
       "    }\n",
       "</style>\n",
       "<table border=\"1\" class=\"dataframe\">\n",
       "  <thead>\n",
       "    <tr style=\"text-align: right;\">\n",
       "      <th></th>\n",
       "      <th>CHANNEL</th>\n",
       "      <th>channel_orders</th>\n",
       "      <th>non_channel_orders</th>\n",
       "    </tr>\n",
       "  </thead>\n",
       "  <tbody>\n",
       "    <tr>\n",
       "      <th>0</th>\n",
       "      <td>Канал 1</td>\n",
       "      <td>0.688206</td>\n",
       "      <td>0.311794</td>\n",
       "    </tr>\n",
       "    <tr>\n",
       "      <th>1</th>\n",
       "      <td>Канал 5</td>\n",
       "      <td>0.401132</td>\n",
       "      <td>0.598868</td>\n",
       "    </tr>\n",
       "    <tr>\n",
       "      <th>2</th>\n",
       "      <td>Канал 3</td>\n",
       "      <td>0.372608</td>\n",
       "      <td>0.627392</td>\n",
       "    </tr>\n",
       "    <tr>\n",
       "      <th>3</th>\n",
       "      <td>Канал 2</td>\n",
       "      <td>0.151515</td>\n",
       "      <td>0.848485</td>\n",
       "    </tr>\n",
       "    <tr>\n",
       "      <th>4</th>\n",
       "      <td>Канал 6</td>\n",
       "      <td>0.126844</td>\n",
       "      <td>0.873156</td>\n",
       "    </tr>\n",
       "  </tbody>\n",
       "</table>\n",
       "</div>"
      ],
      "text/plain": [
       "   CHANNEL  channel_orders  non_channel_orders\n",
       "0  Канал 1        0.688206            0.311794\n",
       "1  Канал 5        0.401132            0.598868\n",
       "2  Канал 3        0.372608            0.627392\n",
       "3  Канал 2        0.151515            0.848485\n",
       "4  Канал 6        0.126844            0.873156"
      ]
     },
     "execution_count": 68,
     "metadata": {},
     "output_type": "execute_result"
    }
   ],
   "source": [
    "sqldf(\"\"\"\n",
    "with counts as (\n",
    "select CHANNEL, sum(AGRY_FLG) as agr_c, count(*) as orders_c\n",
    "from analyst_file\n",
    "where AGREEMENT=1 OR APPL=1\n",
    "group by CHANNEL\n",
    ")\n",
    "select CHANNEL, agr_c*1.0/orders_c as channel_orders, 1.0-agr_c*1.0/orders_c as non_channel_orders\n",
    "from counts\n",
    "order by channel_orders DESC\n",
    "\n",
    "\"\"\")"
   ]
  },
  {
   "cell_type": "markdown",
   "metadata": {
    "id": "L7jlljfrnV9j"
   },
   "source": [
    "Ответ: Канал 1"
   ]
  },
  {
   "cell_type": "markdown",
   "metadata": {
    "id": "uNGnYuzS-2q7"
   },
   "source": [
    "## Задание по python 2"
   ]
  },
  {
   "cell_type": "markdown",
   "metadata": {
    "id": "8ysSxrmNyS0I"
   },
   "source": [
    "### Описание задачи"
   ]
  },
  {
   "cell_type": "markdown",
   "metadata": {
    "id": "x7JH7dtZyfET"
   },
   "source": [
    "**Формирование пакетов клиентским менеджерам**\n",
    "\n",
    "Пакет – набор ИНН, закрепленных за конкретным персональным клиентским менеджером (КМ).\n",
    "\n",
    "ID – совокупность ИНН объединенных в один холдинг в рамках головного отделения банка. Если ИНН не входит в холдинг, он считается уникальным ID.\n",
    "\n",
    "\n",
    "В таблице **«База ИНН»** представлены ИНН со следующими атрибутами:\n",
    "- ИНН\n",
    "- Наименование холдинга\n",
    "- Тип сотрудничества: клиент / не клиент\n",
    "- Территориальная принадлежность к головному отделению банка\n",
    "- Потенциальный доход по ИНН\n",
    "\n",
    "В таблице **«Список КМ»** представлены клиентские менеджеры со следующими атрибутами:\n",
    "- ФИО КМ\n",
    "- Территориальная принадлежность КМ к головному отделению банка\n",
    "\n",
    "**Задание:** необходимо сформировать пакет для каждого КМ с учетом следующих критериев:\n",
    "- Кол-во уникальных ID в пакете не более 150.\n",
    "- Доля не клиентов в пакете не более 35%\n",
    "- Пакет должен содержать ИНН только из данного головного отделения где присутствует КМ.\n",
    "- Пакет должен быть сбалансированным по потенциалу у каждого КМ.\n",
    "\n",
    "**Примечание по задаче:** часть условий опущена, по ходу решения необходимо на них выйти и сформировать свои предложения.\n"
   ]
  },
  {
   "cell_type": "markdown",
   "metadata": {
    "id": "kNg4ZBwby95D"
   },
   "source": [
    "### Решение"
   ]
  },
  {
   "cell_type": "code",
   "execution_count": 81,
   "metadata": {
    "colab": {
     "base_uri": "https://localhost:8080/",
     "height": 206
    },
    "executionInfo": {
     "elapsed": 302,
     "status": "ok",
     "timestamp": 1737318578522,
     "user": {
      "displayName": "Ariuna Aiusheeva",
      "userId": "02060270682205182193"
     },
     "user_tz": -180
    },
    "id": "-YMO9XpAzfqp",
    "outputId": "21d7b95c-5bca-4b2b-c8c3-15dad0e1fe4d"
   },
   "outputs": [
    {
     "data": {
      "text/html": [
       "<div>\n",
       "<style scoped>\n",
       "    .dataframe tbody tr th:only-of-type {\n",
       "        vertical-align: middle;\n",
       "    }\n",
       "\n",
       "    .dataframe tbody tr th {\n",
       "        vertical-align: top;\n",
       "    }\n",
       "\n",
       "    .dataframe thead th {\n",
       "        text-align: right;\n",
       "    }\n",
       "</style>\n",
       "<table border=\"1\" class=\"dataframe\">\n",
       "  <thead>\n",
       "    <tr style=\"text-align: right;\">\n",
       "      <th></th>\n",
       "      <th>ФИО</th>\n",
       "      <th>Головное отделение</th>\n",
       "    </tr>\n",
       "  </thead>\n",
       "  <tbody>\n",
       "    <tr>\n",
       "      <th>0</th>\n",
       "      <td>Пушкин Александр Сергеевич</td>\n",
       "      <td>ГО1</td>\n",
       "    </tr>\n",
       "    <tr>\n",
       "      <th>1</th>\n",
       "      <td>Гоголь Николай Васильевич</td>\n",
       "      <td>ГО3</td>\n",
       "    </tr>\n",
       "    <tr>\n",
       "      <th>2</th>\n",
       "      <td>Достоевский Федор Михайлович</td>\n",
       "      <td>ГО2</td>\n",
       "    </tr>\n",
       "    <tr>\n",
       "      <th>3</th>\n",
       "      <td>Толстой Лев Николаевич</td>\n",
       "      <td>ГО1</td>\n",
       "    </tr>\n",
       "    <tr>\n",
       "      <th>4</th>\n",
       "      <td>Чехов Антон Павлович</td>\n",
       "      <td>ГО3</td>\n",
       "    </tr>\n",
       "  </tbody>\n",
       "</table>\n",
       "</div>"
      ],
      "text/plain": [
       "                            ФИО Головное отделение\n",
       "0    Пушкин Александр Сергеевич                ГО1\n",
       "1     Гоголь Николай Васильевич                ГО3\n",
       "2  Достоевский Федор Михайлович                ГО2\n",
       "3        Толстой Лев Николаевич                ГО1\n",
       "4          Чехов Антон Павлович                ГО3"
      ]
     },
     "execution_count": 81,
     "metadata": {},
     "output_type": "execute_result"
    }
   ],
   "source": [
    "km_table = pd.read_excel(os.path.join(path,'Список КМ.xlsx'))\n",
    "km_table"
   ]
  },
  {
   "cell_type": "code",
   "execution_count": 25,
   "metadata": {
    "colab": {
     "base_uri": "https://localhost:8080/",
     "height": 206
    },
    "executionInfo": {
     "elapsed": 1527,
     "status": "ok",
     "timestamp": 1737317219184,
     "user": {
      "displayName": "Ariuna Aiusheeva",
      "userId": "02060270682205182193"
     },
     "user_tz": -180
    },
    "id": "1g3bBDs70F5Q",
    "outputId": "c04c8184-8987-4927-d81a-295bb3f9e154"
   },
   "outputs": [
    {
     "data": {
      "text/html": [
       "<div>\n",
       "<style scoped>\n",
       "    .dataframe tbody tr th:only-of-type {\n",
       "        vertical-align: middle;\n",
       "    }\n",
       "\n",
       "    .dataframe tbody tr th {\n",
       "        vertical-align: top;\n",
       "    }\n",
       "\n",
       "    .dataframe thead th {\n",
       "        text-align: right;\n",
       "    }\n",
       "</style>\n",
       "<table border=\"1\" class=\"dataframe\">\n",
       "  <thead>\n",
       "    <tr style=\"text-align: right;\">\n",
       "      <th></th>\n",
       "      <th>ИНН</th>\n",
       "      <th>Холдинг</th>\n",
       "      <th>Сотрудничество</th>\n",
       "      <th>Головное отделение</th>\n",
       "      <th>Потенциальный доход</th>\n",
       "    </tr>\n",
       "  </thead>\n",
       "  <tbody>\n",
       "    <tr>\n",
       "      <th>0</th>\n",
       "      <td>14361977</td>\n",
       "      <td>NaN</td>\n",
       "      <td>Клиент</td>\n",
       "      <td>ГО1</td>\n",
       "      <td>5702680</td>\n",
       "    </tr>\n",
       "    <tr>\n",
       "      <th>1</th>\n",
       "      <td>1454444</td>\n",
       "      <td>NaN</td>\n",
       "      <td>Клиент</td>\n",
       "      <td>ГО2</td>\n",
       "      <td>4129018</td>\n",
       "    </tr>\n",
       "    <tr>\n",
       "      <th>2</th>\n",
       "      <td>14689141</td>\n",
       "      <td>Холдинг_1</td>\n",
       "      <td>Не клиент</td>\n",
       "      <td>ГО1</td>\n",
       "      <td>9645470</td>\n",
       "    </tr>\n",
       "    <tr>\n",
       "      <th>3</th>\n",
       "      <td>14709947</td>\n",
       "      <td>NaN</td>\n",
       "      <td>Не клиент</td>\n",
       "      <td>ГО2</td>\n",
       "      <td>4375217</td>\n",
       "    </tr>\n",
       "    <tr>\n",
       "      <th>4</th>\n",
       "      <td>14767489</td>\n",
       "      <td>NaN</td>\n",
       "      <td>Не клиент</td>\n",
       "      <td>ГО3</td>\n",
       "      <td>7749114</td>\n",
       "    </tr>\n",
       "  </tbody>\n",
       "</table>\n",
       "</div>"
      ],
      "text/plain": [
       "        ИНН    Холдинг Сотрудничество Головное отделение  Потенциальный доход\n",
       "0  14361977        NaN         Клиент                ГО1              5702680\n",
       "1   1454444        NaN         Клиент                ГО2              4129018\n",
       "2  14689141  Холдинг_1      Не клиент                ГО1              9645470\n",
       "3  14709947        NaN      Не клиент                ГО2              4375217\n",
       "4  14767489        NaN      Не клиент                ГО3              7749114"
      ]
     },
     "execution_count": 25,
     "metadata": {},
     "output_type": "execute_result"
    }
   ],
   "source": [
    "inn_table = pd.read_excel(os.path.join(path,'Список ИНН.xlsx'))\n",
    "inn_table.head()"
   ]
  },
  {
   "cell_type": "code",
   "execution_count": 26,
   "metadata": {
    "colab": {
     "base_uri": "https://localhost:8080/",
     "height": 425
    },
    "executionInfo": {
     "elapsed": 679,
     "status": "ok",
     "timestamp": 1737317221600,
     "user": {
      "displayName": "Ariuna Aiusheeva",
      "userId": "02060270682205182193"
     },
     "user_tz": -180
    },
    "id": "_H5-nVit7Dxr",
    "outputId": "1ceb6048-0758-46ca-9c1e-229aa0a93385"
   },
   "outputs": [
    {
     "data": {
      "text/html": [
       "<div>\n",
       "<style scoped>\n",
       "    .dataframe tbody tr th:only-of-type {\n",
       "        vertical-align: middle;\n",
       "    }\n",
       "\n",
       "    .dataframe tbody tr th {\n",
       "        vertical-align: top;\n",
       "    }\n",
       "\n",
       "    .dataframe thead th {\n",
       "        text-align: right;\n",
       "    }\n",
       "</style>\n",
       "<table border=\"1\" class=\"dataframe\">\n",
       "  <thead>\n",
       "    <tr style=\"text-align: right;\">\n",
       "      <th></th>\n",
       "      <th>ИНН</th>\n",
       "      <th>Холдинг</th>\n",
       "      <th>Сотрудничество</th>\n",
       "      <th>Головное отделение</th>\n",
       "      <th>Потенциальный доход</th>\n",
       "    </tr>\n",
       "  </thead>\n",
       "  <tbody>\n",
       "    <tr>\n",
       "      <th>2</th>\n",
       "      <td>14689141</td>\n",
       "      <td>Холдинг_1</td>\n",
       "      <td>Не клиент</td>\n",
       "      <td>ГО1</td>\n",
       "      <td>9645470</td>\n",
       "    </tr>\n",
       "    <tr>\n",
       "      <th>120</th>\n",
       "      <td>43441449</td>\n",
       "      <td>Холдинг_1</td>\n",
       "      <td>Клиент</td>\n",
       "      <td>ГО1</td>\n",
       "      <td>1095576</td>\n",
       "    </tr>\n",
       "    <tr>\n",
       "      <th>181</th>\n",
       "      <td>48343439</td>\n",
       "      <td>Холдинг_1</td>\n",
       "      <td>Не клиент</td>\n",
       "      <td>ГО1</td>\n",
       "      <td>1356869</td>\n",
       "    </tr>\n",
       "    <tr>\n",
       "      <th>228</th>\n",
       "      <td>4441450</td>\n",
       "      <td>Холдинг_1</td>\n",
       "      <td>Не клиент</td>\n",
       "      <td>ГО1</td>\n",
       "      <td>7623037</td>\n",
       "    </tr>\n",
       "    <tr>\n",
       "      <th>254</th>\n",
       "      <td>34534677</td>\n",
       "      <td>Холдинг_1</td>\n",
       "      <td>Не клиент</td>\n",
       "      <td>ГО1</td>\n",
       "      <td>650375</td>\n",
       "    </tr>\n",
       "    <tr>\n",
       "      <th>407</th>\n",
       "      <td>47148714</td>\n",
       "      <td>Холдинг_1</td>\n",
       "      <td>Клиент</td>\n",
       "      <td>ГО2</td>\n",
       "      <td>5794550</td>\n",
       "    </tr>\n",
       "    <tr>\n",
       "      <th>413</th>\n",
       "      <td>47390677</td>\n",
       "      <td>Холдинг_1</td>\n",
       "      <td>Клиент</td>\n",
       "      <td>ГО2</td>\n",
       "      <td>1557446</td>\n",
       "    </tr>\n",
       "    <tr>\n",
       "      <th>622</th>\n",
       "      <td>65155049</td>\n",
       "      <td>Холдинг_1</td>\n",
       "      <td>Не клиент</td>\n",
       "      <td>ГО2</td>\n",
       "      <td>1631340</td>\n",
       "    </tr>\n",
       "    <tr>\n",
       "      <th>659</th>\n",
       "      <td>6883144</td>\n",
       "      <td>Холдинг_1</td>\n",
       "      <td>Клиент</td>\n",
       "      <td>ГО2</td>\n",
       "      <td>195037</td>\n",
       "    </tr>\n",
       "    <tr>\n",
       "      <th>752</th>\n",
       "      <td>76947547</td>\n",
       "      <td>Холдинг_1</td>\n",
       "      <td>Не клиент</td>\n",
       "      <td>ГО1</td>\n",
       "      <td>3935608</td>\n",
       "    </tr>\n",
       "    <tr>\n",
       "      <th>772</th>\n",
       "      <td>79051153</td>\n",
       "      <td>Холдинг_1</td>\n",
       "      <td>Не клиент</td>\n",
       "      <td>ГО2</td>\n",
       "      <td>4163616</td>\n",
       "    </tr>\n",
       "    <tr>\n",
       "      <th>930</th>\n",
       "      <td>94153070</td>\n",
       "      <td>Холдинг_1</td>\n",
       "      <td>Клиент</td>\n",
       "      <td>ГО2</td>\n",
       "      <td>6038175</td>\n",
       "    </tr>\n",
       "  </tbody>\n",
       "</table>\n",
       "</div>"
      ],
      "text/plain": [
       "          ИНН    Холдинг Сотрудничество Головное отделение  \\\n",
       "2    14689141  Холдинг_1      Не клиент                ГО1   \n",
       "120  43441449  Холдинг_1         Клиент                ГО1   \n",
       "181  48343439  Холдинг_1      Не клиент                ГО1   \n",
       "228   4441450  Холдинг_1      Не клиент                ГО1   \n",
       "254  34534677  Холдинг_1      Не клиент                ГО1   \n",
       "407  47148714  Холдинг_1         Клиент                ГО2   \n",
       "413  47390677  Холдинг_1         Клиент                ГО2   \n",
       "622  65155049  Холдинг_1      Не клиент                ГО2   \n",
       "659   6883144  Холдинг_1         Клиент                ГО2   \n",
       "752  76947547  Холдинг_1      Не клиент                ГО1   \n",
       "772  79051153  Холдинг_1      Не клиент                ГО2   \n",
       "930  94153070  Холдинг_1         Клиент                ГО2   \n",
       "\n",
       "     Потенциальный доход  \n",
       "2                9645470  \n",
       "120              1095576  \n",
       "181              1356869  \n",
       "228              7623037  \n",
       "254               650375  \n",
       "407              5794550  \n",
       "413              1557446  \n",
       "622              1631340  \n",
       "659               195037  \n",
       "752              3935608  \n",
       "772              4163616  \n",
       "930              6038175  "
      ]
     },
     "execution_count": 26,
     "metadata": {},
     "output_type": "execute_result"
    }
   ],
   "source": [
    "inn_table[inn_table['Холдинг']=='Холдинг_1']"
   ]
  },
  {
   "cell_type": "code",
   "execution_count": 27,
   "metadata": {
    "executionInfo": {
     "elapsed": 2,
     "status": "ok",
     "timestamp": 1737317221874,
     "user": {
      "displayName": "Ariuna Aiusheeva",
      "userId": "02060270682205182193"
     },
     "user_tz": -180
    },
    "id": "tJH8s0cU2IO-"
   },
   "outputs": [],
   "source": [
    "inn_table['ID']=inn_table['Холдинг'].fillna(inn_table['ИНН']).astype(str)\n",
    "# inn_table.index=inn_table['ID']"
   ]
  },
  {
   "cell_type": "markdown",
   "metadata": {
    "id": "18tuWwbXAsMW"
   },
   "source": [
    "#### изучение таблиц"
   ]
  },
  {
   "cell_type": "code",
   "execution_count": 28,
   "metadata": {
    "colab": {
     "base_uri": "https://localhost:8080/"
    },
    "executionInfo": {
     "elapsed": 277,
     "status": "ok",
     "timestamp": 1737309622365,
     "user": {
      "displayName": "Ariuna Aiusheeva",
      "userId": "02060270682205182193"
     },
     "user_tz": -180
    },
    "id": "tPh9henq3DSJ",
    "outputId": "9ab5fa7e-3e23-4a0a-d826-dc626bc5af5d"
   },
   "outputs": [
    {
     "name": "stdout",
     "output_type": "stream",
     "text": [
      "658\n",
      "5\n",
      "131.6\n"
     ]
    }
   ],
   "source": [
    "# Рассмотрим, сколько есть уникальных айди, менеджеров и возможная загруженность\n",
    "print(inn_table['ID'].nunique())\n",
    "print(len(km_table))\n",
    "print(inn_table['ID'].nunique()/len(km_table))"
   ]
  },
  {
   "cell_type": "code",
   "execution_count": 29,
   "metadata": {
    "colab": {
     "base_uri": "https://localhost:8080/",
     "height": 206
    },
    "executionInfo": {
     "elapsed": 250,
     "status": "ok",
     "timestamp": 1737309628594,
     "user": {
      "displayName": "Ariuna Aiusheeva",
      "userId": "02060270682205182193"
     },
     "user_tz": -180
    },
    "id": "I4aD7N0w8Sj6",
    "outputId": "b693b30c-cd53-4118-f74d-615628a34e55"
   },
   "outputs": [
    {
     "data": {
      "text/html": [
       "<div>\n",
       "<style scoped>\n",
       "    .dataframe tbody tr th:only-of-type {\n",
       "        vertical-align: middle;\n",
       "    }\n",
       "\n",
       "    .dataframe tbody tr th {\n",
       "        vertical-align: top;\n",
       "    }\n",
       "\n",
       "    .dataframe thead th {\n",
       "        text-align: right;\n",
       "    }\n",
       "</style>\n",
       "<table border=\"1\" class=\"dataframe\">\n",
       "  <thead>\n",
       "    <tr style=\"text-align: right;\">\n",
       "      <th></th>\n",
       "      <th>ИНН</th>\n",
       "      <th>Холдинг</th>\n",
       "      <th>Сотрудничество</th>\n",
       "      <th>Головное отделение</th>\n",
       "      <th>Потенциальный доход</th>\n",
       "      <th>ID</th>\n",
       "    </tr>\n",
       "  </thead>\n",
       "  <tbody>\n",
       "    <tr>\n",
       "      <th>0</th>\n",
       "      <td>14361977</td>\n",
       "      <td>NaN</td>\n",
       "      <td>Клиент</td>\n",
       "      <td>ГО1</td>\n",
       "      <td>5702680</td>\n",
       "      <td>14361977</td>\n",
       "    </tr>\n",
       "    <tr>\n",
       "      <th>1</th>\n",
       "      <td>1454444</td>\n",
       "      <td>NaN</td>\n",
       "      <td>Клиент</td>\n",
       "      <td>ГО2</td>\n",
       "      <td>4129018</td>\n",
       "      <td>1454444</td>\n",
       "    </tr>\n",
       "    <tr>\n",
       "      <th>2</th>\n",
       "      <td>14689141</td>\n",
       "      <td>Холдинг_1</td>\n",
       "      <td>Не клиент</td>\n",
       "      <td>ГО1</td>\n",
       "      <td>9645470</td>\n",
       "      <td>Холдинг_1</td>\n",
       "    </tr>\n",
       "    <tr>\n",
       "      <th>3</th>\n",
       "      <td>14709947</td>\n",
       "      <td>NaN</td>\n",
       "      <td>Не клиент</td>\n",
       "      <td>ГО2</td>\n",
       "      <td>4375217</td>\n",
       "      <td>14709947</td>\n",
       "    </tr>\n",
       "    <tr>\n",
       "      <th>4</th>\n",
       "      <td>14767489</td>\n",
       "      <td>NaN</td>\n",
       "      <td>Не клиент</td>\n",
       "      <td>ГО3</td>\n",
       "      <td>7749114</td>\n",
       "      <td>14767489</td>\n",
       "    </tr>\n",
       "  </tbody>\n",
       "</table>\n",
       "</div>"
      ],
      "text/plain": [
       "        ИНН    Холдинг Сотрудничество Головное отделение  Потенциальный доход  \\\n",
       "0  14361977        NaN         Клиент                ГО1              5702680   \n",
       "1   1454444        NaN         Клиент                ГО2              4129018   \n",
       "2  14689141  Холдинг_1      Не клиент                ГО1              9645470   \n",
       "3  14709947        NaN      Не клиент                ГО2              4375217   \n",
       "4  14767489        NaN      Не клиент                ГО3              7749114   \n",
       "\n",
       "          ID  \n",
       "0   14361977  \n",
       "1    1454444  \n",
       "2  Холдинг_1  \n",
       "3   14709947  \n",
       "4   14767489  "
      ]
     },
     "execution_count": 29,
     "metadata": {},
     "output_type": "execute_result"
    }
   ],
   "source": [
    "inn_table.head()"
   ]
  },
  {
   "cell_type": "code",
   "execution_count": 30,
   "metadata": {
    "colab": {
     "base_uri": "https://localhost:8080/"
    },
    "executionInfo": {
     "elapsed": 10,
     "status": "ok",
     "timestamp": 1737304220163,
     "user": {
      "displayName": "Ariuna Aiusheeva",
      "userId": "02060270682205182193"
     },
     "user_tz": -180
    },
    "id": "o_Ksrvza8Hye",
    "outputId": "c299e0c6-eb4c-4b14-dd58-b7a996f4e0f8"
   },
   "outputs": [
    {
     "data": {
      "text/plain": [
       "array([nan, 'Холдинг_1', 'Холдинг_22', 'Холдинг_25', 'Холдинг_30',\n",
       "       'Холдинг_10', 'Холдинг_39', 'Холдинг_11', 'Холдинг_23',\n",
       "       'Холдинг_35', 'Холдинг_21', 'Холдинг_2', 'Холдинг_13',\n",
       "       'Холдинг_33', 'Холдинг_19', 'Холдинг_37', 'Холдинг_8',\n",
       "       'Холдинг_17', 'Холдинг_20', 'Холдинг_29', 'Холдинг_26',\n",
       "       'Холдинг_3', 'Холдинг_40', 'Холдинг_5', 'Холдинг_18', 'Холдинг_27',\n",
       "       'Холдинг_38', 'Холдинг_9', 'Холдинг_14', 'Холдинг_24',\n",
       "       'Холдинг_12', 'Холдинг_28', 'Холдинг_7', 'Холдинг_31',\n",
       "       'Холдинг_32', 'Холдинг_15', 'Холдинг_16', 'Холдинг_36',\n",
       "       'Холдинг_4', 'Холдинг_6', 'Холдинг_34'], dtype=object)"
      ]
     },
     "execution_count": 30,
     "metadata": {},
     "output_type": "execute_result"
    }
   ],
   "source": [
    "inn_table['ID'].isna().sum()\n",
    "inn_table['Холдинг'].unique()"
   ]
  },
  {
   "cell_type": "code",
   "execution_count": 31,
   "metadata": {
    "colab": {
     "base_uri": "https://localhost:8080/"
    },
    "executionInfo": {
     "elapsed": 8,
     "status": "ok",
     "timestamp": 1737304220163,
     "user": {
      "displayName": "Ariuna Aiusheeva",
      "userId": "02060270682205182193"
     },
     "user_tz": -180
    },
    "id": "YtKwHpWy-WX0",
    "outputId": "11addca8-0194-4ced-9ae2-64e240b71ae4"
   },
   "outputs": [
    {
     "data": {
      "text/plain": [
       "array(['ГО1', 'ГО2', 'ГО3'], dtype=object)"
      ]
     },
     "execution_count": 31,
     "metadata": {},
     "output_type": "execute_result"
    }
   ],
   "source": [
    "inn_table['Головное отделение'].unique()"
   ]
  },
  {
   "cell_type": "code",
   "execution_count": 32,
   "metadata": {
    "colab": {
     "base_uri": "https://localhost:8080/"
    },
    "executionInfo": {
     "elapsed": 280,
     "status": "ok",
     "timestamp": 1737305492930,
     "user": {
      "displayName": "Ariuna Aiusheeva",
      "userId": "02060270682205182193"
     },
     "user_tz": -180
    },
    "id": "jfzoB-ff31I1",
    "outputId": "d1d0c15a-08ed-410f-a5a6-ea43a3081a5f"
   },
   "outputs": [
    {
     "data": {
      "text/plain": [
       "157"
      ]
     },
     "execution_count": 32,
     "metadata": {},
     "output_type": "execute_result"
    }
   ],
   "source": [
    "inn_table['ID'] = inn_table['ID'].astype(str)\n",
    "go2 = inn_table[(inn_table['ID'].str.contains('Холдинг',regex=True)) & (inn_table['Головное отделение']=='ГО2')]\n",
    "go2['ID'].nunique()\n",
    "inn_table[(inn_table['Головное отделение']=='ГО2')]['ID'].nunique()\n",
    "307-150"
   ]
  },
  {
   "cell_type": "markdown",
   "metadata": {
    "id": "fK2oU2x34L_M"
   },
   "source": [
    "Из данных видно, что тут есть 3 ГО, при этом отделение ГО2, там есть только один КМ. Попробуем сформировать пакет для него"
   ]
  },
  {
   "cell_type": "markdown",
   "metadata": {
    "id": "3Cl-t63j57Rj"
   },
   "source": [
    "Тут видно, что количество уникальных ID для ГО2 превышает 150 штук, однако в условии задачи не было сказано, что необходимо ВСЕ уникальные ID разложить на пакеты"
   ]
  },
  {
   "cell_type": "code",
   "execution_count": 33,
   "metadata": {
    "colab": {
     "base_uri": "https://localhost:8080/",
     "height": 471
    },
    "executionInfo": {
     "elapsed": 4960,
     "status": "ok",
     "timestamp": 1737317233698,
     "user": {
      "displayName": "Ariuna Aiusheeva",
      "userId": "02060270682205182193"
     },
     "user_tz": -180
    },
    "id": "acqjXSrC0ol4",
    "outputId": "ab6f86e1-2561-4968-bc7f-bd23f976da1b"
   },
   "outputs": [
    {
     "data": {
      "text/plain": [
       "<Axes: xlabel='Потенциальный доход', ylabel='Count'>"
      ]
     },
     "execution_count": 33,
     "metadata": {},
     "output_type": "execute_result"
    },
    {
     "data": {
      "image/png": "[encoded data removed]",
      "text/plain": [
       "<Figure size 640x480 with 1 Axes>"
      ]
     },
     "metadata": {},
     "output_type": "display_data"
    }
   ],
   "source": [
    "sns.histplot(inn_table['Потенциальный доход'], log_scale=True)"
   ]
  },
  {
   "cell_type": "markdown",
   "metadata": {},
   "source": [
    "Определю максимальный сбалансированный доход, который возможен для разных пакетов"
   ]
  },
  {
   "cell_type": "code",
   "execution_count": 75,
   "metadata": {},
   "outputs": [
    {
     "data": {
      "text/html": [
       "<div>\n",
       "<style scoped>\n",
       "    .dataframe tbody tr th:only-of-type {\n",
       "        vertical-align: middle;\n",
       "    }\n",
       "\n",
       "    .dataframe tbody tr th {\n",
       "        vertical-align: top;\n",
       "    }\n",
       "\n",
       "    .dataframe thead th {\n",
       "        text-align: right;\n",
       "    }\n",
       "</style>\n",
       "<table border=\"1\" class=\"dataframe\">\n",
       "  <thead>\n",
       "    <tr style=\"text-align: right;\">\n",
       "      <th></th>\n",
       "      <th>Головное отделение</th>\n",
       "      <th>pot_sum_income</th>\n",
       "      <th>go_km_num</th>\n",
       "      <th>avg_pot_inc</th>\n",
       "    </tr>\n",
       "  </thead>\n",
       "  <tbody>\n",
       "    <tr>\n",
       "      <th>0</th>\n",
       "      <td>ГО1</td>\n",
       "      <td>1502093205</td>\n",
       "      <td>2</td>\n",
       "      <td>751046602</td>\n",
       "    </tr>\n",
       "    <tr>\n",
       "      <th>1</th>\n",
       "      <td>ГО3</td>\n",
       "      <td>1675455030</td>\n",
       "      <td>2</td>\n",
       "      <td>837727515</td>\n",
       "    </tr>\n",
       "    <tr>\n",
       "      <th>2</th>\n",
       "      <td>ГО2</td>\n",
       "      <td>1708283991</td>\n",
       "      <td>1</td>\n",
       "      <td>1708283991</td>\n",
       "    </tr>\n",
       "  </tbody>\n",
       "</table>\n",
       "</div>"
      ],
      "text/plain": [
       "  Головное отделение  pot_sum_income  go_km_num  avg_pot_inc\n",
       "0                ГО1      1502093205          2    751046602\n",
       "1                ГО3      1675455030          2    837727515\n",
       "2                ГО2      1708283991          1   1708283991"
      ]
     },
     "execution_count": 75,
     "metadata": {},
     "output_type": "execute_result"
    }
   ],
   "source": [
    "go_and_potential_incomes = sqldf(\"\"\"\n",
    "      \n",
    "with pot_inc as (\n",
    "      select `Головное отделение`, sum(`Потенциальный доход`) as pot_sum_income\n",
    "      from inn_table\n",
    "      group by `Головное отделение`\n",
    "),    \n",
    "km_nums as (\n",
    "      select  `Головное отделение`, count(ФИО) as go_km_num\n",
    "      from km_table\n",
    "      group by `Головное отделение`\n",
    "\n",
    ")\n",
    "select pot_inc.`Головное отделение`, pot_sum_income, go_km_num,pot_sum_income/go_km_num as avg_pot_inc\n",
    "from pot_inc join km_nums on pot_inc.`Головное отделение`=km_nums.`Головное отделение`\n",
    "order by avg_pot_inc\n",
    "\"\"\")\n",
    "go_and_potential_incomes"
   ]
  },
  {
   "cell_type": "code",
   "execution_count": 76,
   "metadata": {
    "colab": {
     "base_uri": "https://localhost:8080/"
    },
    "executionInfo": {
     "elapsed": 346,
     "status": "ok",
     "timestamp": 1737318323540,
     "user": {
      "displayName": "Ariuna Aiusheeva",
      "userId": "02060270682205182193"
     },
     "user_tz": -180
    },
    "id": "JvRbBgtAL7Gs",
    "outputId": "d59faad8-1c6c-46ae-8554-30d3beb19cda"
   },
   "outputs": [
    {
     "name": "stdout",
     "output_type": "stream",
     "text": [
      "751046602\n"
     ]
    }
   ],
   "source": [
    "threshold_max = go_and_potential_incomes['avg_pot_inc'].min()\n",
    "print(threshold_max)"
   ]
  },
  {
   "cell_type": "code",
   "execution_count": 77,
   "metadata": {
    "colab": {
     "base_uri": "https://localhost:8080/",
     "height": 471
    },
    "executionInfo": {
     "elapsed": 867,
     "status": "ok",
     "timestamp": 1737318200234,
     "user": {
      "displayName": "Ariuna Aiusheeva",
      "userId": "02060270682205182193"
     },
     "user_tz": -180
    },
    "id": "cJN2I6twO8su",
    "outputId": "9c6f7309-a4eb-4922-c239-97f78742659e"
   },
   "outputs": [
    {
     "data": {
      "text/plain": [
       "<Axes: xlabel='Потенциальный доход', ylabel='Count'>"
      ]
     },
     "execution_count": 77,
     "metadata": {},
     "output_type": "execute_result"
    },
    {
     "data": {
      "image/png": "[encoded data removed]",
      "text/plain": [
       "<Figure size 640x480 with 1 Axes>"
      ]
     },
     "metadata": {},
     "output_type": "display_data"
    }
   ],
   "source": [
    "sns.histplot(inn_table[inn_table['Головное отделение']!='ГО2']['Потенциальный доход'], log_scale=True)"
   ]
  },
  {
   "cell_type": "markdown",
   "metadata": {
    "id": "E7JAkEqPjl_T"
   },
   "source": [
    "#### решение задачи жадным алгоритмом, чтобы время решения было короче + повыше потенциальный доход"
   ]
  },
  {
   "cell_type": "code",
   "execution_count": 78,
   "metadata": {
    "colab": {
     "base_uri": "https://localhost:8080/"
    },
    "executionInfo": {
     "elapsed": 283,
     "status": "ok",
     "timestamp": 1737318374387,
     "user": {
      "displayName": "Ariuna Aiusheeva",
      "userId": "02060270682205182193"
     },
     "user_tz": -180
    },
    "id": "ntrG5GlYPop_",
    "outputId": "f26b47c4-4170-436d-b11e-09a898cdf0d3"
   },
   "outputs": [
    {
     "data": {
      "text/plain": [
       "np.int64(751046602)"
      ]
     },
     "execution_count": 78,
     "metadata": {},
     "output_type": "execute_result"
    }
   ],
   "source": [
    "threshold_max"
   ]
  },
  {
   "cell_type": "code",
   "execution_count": 85,
   "metadata": {
    "executionInfo": {
     "elapsed": 264,
     "status": "ok",
     "timestamp": 1737318457885,
     "user": {
      "displayName": "Ariuna Aiusheeva",
      "userId": "02060270682205182193"
     },
     "user_tz": -180
    },
    "id": "DQhMcBx3oWh5"
   },
   "outputs": [],
   "source": [
    "\n",
    "def create_packages_greedy(inn_table, km_table, min_income=0, max_income=threshold_max):\n",
    "    \"\"\"\n",
    "    Создает пакеты ИНН для каждого клиентского менеджера с использованием жадного алгоритма.\n",
    "\n",
    "    Args:\n",
    "        inn_table (pd.DataFrame): DataFrame с данными по ИНН.\n",
    "        km_table (pd.DataFrame): DataFrame с данными по клиентским менеджерам.\n",
    "\n",
    "    Returns:\n",
    "        dict: Словарь, где ключи - ФИО КМ, значения - список ИНН в пакете.\n",
    "    \"\"\"\n",
    "    packages = {km['ФИО']: [] for _, km in km_table.iterrows()}\n",
    "    unassigned_inns = list(inn_table.index)\n",
    "\n",
    "    # Создаем словарь для отслеживания количества ID в пакете для каждого КМ\n",
    "    km_id_counts = {km['ФИО']: 0 for _, km in km_table.iterrows()}\n",
    "    # km_pot_income_sums = {km['ФИО']: 0 for _, km in km_table.iterrows()}\n",
    "\n",
    "    # print(km_id_counts)\n",
    "    while len(unassigned_inns):\n",
    "        if not km_id_counts:\n",
    "            break # если все КМ обработаны то выход из цикла\n",
    "        # Находим КМ с наименьшим количеством ID в пакете\n",
    "        km_name = min(km_id_counts, key=km_id_counts.get)\n",
    "        km = km_table[km_table['ФИО'] == km_name].iloc[0]\n",
    "        km_office = km['Головное отделение']\n",
    "\n",
    "        # Фильтруем подходящие ИНН\n",
    "        eligible_inns = [idx for idx in unassigned_inns if inn_table.loc[idx]['Головное отделение'] == km_office]\n",
    "        if not eligible_inns:\n",
    "           # Если нет доступных ИНН, удаляем КМ из рассмотрения\n",
    "           del km_id_counts[km_name]\n",
    "           continue #переходим к следующему циклу\n",
    "\n",
    "        # Сортируем ИНН по потенциальному доходу (от большего к меньшему)\n",
    "        eligible_inns.sort(key=lambda idx: inn_table.loc[idx]['Потенциальный доход'], reverse=True)\n",
    "\n",
    "        added_inn = False # флаг, чтобы понять добавили ИНН в текущей итерации\n",
    "\n",
    "        for inn_idx in eligible_inns:\n",
    "            temp_package = packages[km_name] + [inn_idx]\n",
    "            temp_package_data = inn_table.loc[temp_package]\n",
    "\n",
    "             # Проверка на максимальное количество ID\n",
    "            unique_ids = set(temp_package_data['ID'].tolist())\n",
    "            if len(unique_ids) > 150:\n",
    "                continue # если превысили лимит ID, то к следующему ИНН\n",
    "\n",
    "            # Проверка на максимальную долю не клиентов\n",
    "            non_client_count = temp_package_data[temp_package_data['Сотрудничество'] == 'Не клиент'].shape[0]\n",
    "            if len(temp_package) > 0:\n",
    "                non_client_ratio = non_client_count / len(temp_package)\n",
    "            else:\n",
    "                 non_client_ratio = 0\n",
    "\n",
    "            if non_client_ratio > 0.35:\n",
    "                continue # если превысили долю не клиентов, то к следующему ИНН\n",
    "\n",
    "            potential_income = temp_package_data['Потенциальный доход'].sum()\n",
    "            if (min_income is not None and potential_income < min_income) or \\\n",
    "               (max_income is not None and potential_income > max_income):\n",
    "                continue\n",
    "            packages[km_name].append(inn_idx)\n",
    "            unassigned_inns.remove(inn_idx)\n",
    "            km_id_counts[km_name] = len(set(inn_table.loc[packages[km_name]]['ID'].tolist()))\n",
    "            added_inn = True\n",
    "            break  # Добавили ИНН, переходим к следующему КМ\n",
    "\n",
    "        if not added_inn:\n",
    "            # Если не добавили ИНН, удаляем КМ из рассмотрения\n",
    "            del km_id_counts[km_name]\n",
    "\n",
    "\n",
    "    # Выводим распределенные и не распределенные ИНН\n",
    "    assigned_inns = []\n",
    "    for km, inns in packages.items():\n",
    "        assigned_inns.extend(inns)\n",
    "    unassigned_inns_after = [inn_idx for inn_idx in inn_table.index if inn_idx not in assigned_inns]\n",
    "    print(f\"Количество нераспределенных ИНН: {len(unassigned_inns_after)}\")\n",
    "\n",
    "\n",
    "    # Балансировка по потенциальному доходу (простой вариант - добавляем случайные ID, пока потенциал не будет более-менее равен)\n",
    "    #  Считаем сумму потенциального дохода для каждого КМ\n",
    "    potential_income = {}\n",
    "    for km,inn_indices in packages.items():\n",
    "          potential_income[km] = inn_table.loc[inn_indices]['Потенциальный доход'].sum()\n",
    "\n",
    "    # Вычисляем средний потенциал для КМ\n",
    "    total_potential = sum(potential_income.values())\n",
    "    if len(potential_income) > 0:\n",
    "       average_potential = total_potential / len(potential_income)\n",
    "    else:\n",
    "         average_potential = 0\n",
    "\n",
    "    for km,inn_indices in packages.items():\n",
    "        km_potential = potential_income[km]\n",
    "\n",
    "        # Пытаемся добрать потенциал для КМ, у которого он меньше среднего\n",
    "        if average_potential > 0 and km_potential < average_potential:\n",
    "\n",
    "            eligible_inns = [idx for idx in unassigned_inns_after if inn_table.loc[idx]['Головное отделение'] == km_table[km_table['ФИО']==km]['Головное отделение'].iloc[0]  ]\n",
    "            # Сортируем по потенциальному доходу (сначала берем самые выгодные ИНН)\n",
    "            eligible_inns.sort(key=lambda idx: inn_table.loc[idx]['Потенциальный доход'], reverse=True)\n",
    "\n",
    "            for idx in eligible_inns:\n",
    "                temp_package = packages[km] + [idx]\n",
    "                temp_package_data = inn_table.loc[temp_package]\n",
    "                unique_ids = set(temp_package_data['ID'].tolist())\n",
    "\n",
    "                if len(unique_ids) <= 150:\n",
    "                    non_client_count = temp_package_data[temp_package_data['Сотрудничество'] == 'Не клиент'].shape[0]\n",
    "                    if len(temp_package) > 0 :\n",
    "                        non_client_ratio = non_client_count / len(temp_package)\n",
    "                    else:\n",
    "                        non_client_ratio=0\n",
    "\n",
    "                    if non_client_ratio <= 0.35:\n",
    "                        packages[km].append(idx)\n",
    "                        unassigned_inns_after.remove(idx)\n",
    "                        potential_income[km] += inn_table.loc[idx]['Потенциальный доход']\n",
    "                        km_potential = potential_income[km]\n",
    "                        if km_potential >= average_potential:\n",
    "                            break\n",
    "\n",
    "    return packages\n",
    "\n"
   ]
  },
  {
   "cell_type": "code",
   "execution_count": 86,
   "metadata": {
    "colab": {
     "base_uri": "https://localhost:8080/"
    },
    "executionInfo": {
     "elapsed": 45944,
     "status": "ok",
     "timestamp": 1737318508235,
     "user": {
      "displayName": "Ariuna Aiusheeva",
      "userId": "02060270682205182193"
     },
     "user_tz": -180
    },
    "id": "h9IMyJ77qo2E",
    "outputId": "94664b12-79a8-4252-b6fb-f064042f91ee"
   },
   "outputs": [
    {
     "name": "stdout",
     "output_type": "stream",
     "text": [
      "Количество нераспределенных ИНН: 415\n",
      "Пакет для КМ Пушкин Александр Сергеевич: 118 ИНН\n",
      "  Количество уникальных ID: 84\n",
      "  Доля не клиентов: 0.35\n",
      "  Суммарный потенциальный доход: 675891440\n",
      "Пакет для КМ Гоголь Николай Васильевич: 133 ИНН\n",
      "  Количество уникальных ID: 81\n",
      "  Доля не клиентов: 0.35\n",
      "  Суммарный потенциальный доход: 751030054\n",
      "Пакет для КМ Достоевский Федор Михайлович: 92 ИНН\n",
      "  Количество уникальных ID: 86\n",
      "  Доля не клиентов: 0.34\n",
      "  Суммарный потенциальный доход: 751046222\n",
      "Пакет для КМ Толстой Лев Николаевич: 110 ИНН\n",
      "  Количество уникальных ID: 83\n",
      "  Доля не клиентов: 0.35\n",
      "  Суммарный потенциальный доход: 617920903\n",
      "Пакет для КМ Чехов Антон Павлович: 132 ИНН\n",
      "  Количество уникальных ID: 82\n",
      "  Доля не клиентов: 0.35\n",
      "  Суммарный потенциальный доход: 751003848\n"
     ]
    }
   ],
   "source": [
    "packages = create_packages_greedy(inn_table, km_table)\n",
    "\n",
    "tot_pot_inc_array = {}\n",
    "for km, inns in packages.items():\n",
    "  print(f\"Пакет для КМ {km}: {len(inns)} ИНН\")\n",
    "  package_data = inn_table.loc[inns]\n",
    "  unique_ids = set(package_data['ID'].tolist())\n",
    "  non_client_count = package_data[package_data['Сотрудничество'] == 'Не клиент'].shape[0]\n",
    "  if len(package_data) > 0:\n",
    "    non_client_ratio = non_client_count / len(package_data)\n",
    "  else:\n",
    "    non_client_ratio=0\n",
    "\n",
    "\n",
    "  total_potential_income = package_data['Потенциальный доход'].sum()\n",
    "  tot_pot_inc_array[km] = total_potential_income\n",
    "  print(f\"  Количество уникальных ID: {len(unique_ids)}\")\n",
    "  print(f\"  Доля не клиентов: {non_client_ratio:.2f}\")\n",
    "  print(f\"  Суммарный потенциальный доход: {total_potential_income}\")\n"
   ]
  },
  {
   "cell_type": "code",
   "execution_count": 87,
   "metadata": {
    "colab": {
     "base_uri": "https://localhost:8080/",
     "height": 206
    },
    "executionInfo": {
     "elapsed": 354,
     "status": "ok",
     "timestamp": 1737318595635,
     "user": {
      "displayName": "Ariuna Aiusheeva",
      "userId": "02060270682205182193"
     },
     "user_tz": -180
    },
    "id": "ccr177VD4w7t",
    "outputId": "e6a92b83-4f09-4790-ce7a-16b3fc96e8bf"
   },
   "outputs": [
    {
     "data": {
      "text/html": [
       "<div>\n",
       "<style scoped>\n",
       "    .dataframe tbody tr th:only-of-type {\n",
       "        vertical-align: middle;\n",
       "    }\n",
       "\n",
       "    .dataframe tbody tr th {\n",
       "        vertical-align: top;\n",
       "    }\n",
       "\n",
       "    .dataframe thead th {\n",
       "        text-align: right;\n",
       "    }\n",
       "</style>\n",
       "<table border=\"1\" class=\"dataframe\">\n",
       "  <thead>\n",
       "    <tr style=\"text-align: right;\">\n",
       "      <th></th>\n",
       "      <th>ФИО</th>\n",
       "      <th>Головное отделение</th>\n",
       "      <th>Суммарный потенциальный доход</th>\n",
       "    </tr>\n",
       "  </thead>\n",
       "  <tbody>\n",
       "    <tr>\n",
       "      <th>0</th>\n",
       "      <td>Пушкин Александр Сергеевич</td>\n",
       "      <td>ГО1</td>\n",
       "      <td>675891440</td>\n",
       "    </tr>\n",
       "    <tr>\n",
       "      <th>1</th>\n",
       "      <td>Гоголь Николай Васильевич</td>\n",
       "      <td>ГО3</td>\n",
       "      <td>751030054</td>\n",
       "    </tr>\n",
       "    <tr>\n",
       "      <th>2</th>\n",
       "      <td>Достоевский Федор Михайлович</td>\n",
       "      <td>ГО2</td>\n",
       "      <td>751046222</td>\n",
       "    </tr>\n",
       "    <tr>\n",
       "      <th>3</th>\n",
       "      <td>Толстой Лев Николаевич</td>\n",
       "      <td>ГО1</td>\n",
       "      <td>617920903</td>\n",
       "    </tr>\n",
       "    <tr>\n",
       "      <th>4</th>\n",
       "      <td>Чехов Антон Павлович</td>\n",
       "      <td>ГО3</td>\n",
       "      <td>751003848</td>\n",
       "    </tr>\n",
       "  </tbody>\n",
       "</table>\n",
       "</div>"
      ],
      "text/plain": [
       "                            ФИО Головное отделение  \\\n",
       "0    Пушкин Александр Сергеевич                ГО1   \n",
       "1     Гоголь Николай Васильевич                ГО3   \n",
       "2  Достоевский Федор Михайлович                ГО2   \n",
       "3        Толстой Лев Николаевич                ГО1   \n",
       "4          Чехов Антон Павлович                ГО3   \n",
       "\n",
       "   Суммарный потенциальный доход  \n",
       "0                      675891440  \n",
       "1                      751030054  \n",
       "2                      751046222  \n",
       "3                      617920903  \n",
       "4                      751003848  "
      ]
     },
     "execution_count": 87,
     "metadata": {},
     "output_type": "execute_result"
    }
   ],
   "source": [
    "total_income_series = pd.Series(tot_pot_inc_array, name='Суммарный потенциальный доход')\n",
    "km_table_with_packs = km_table.copy()\n",
    "km_table_with_packs = km_table_with_packs.set_index('ФИО')\n",
    "km_table_with_packs = km_table_with_packs.join(total_income_series,how='left')\n",
    "\n",
    "km_table_with_packs = km_table_with_packs.reset_index()\n",
    "km_table_with_packs"
   ]
  },
  {
   "cell_type": "code",
   "execution_count": 88,
   "metadata": {
    "colab": {
     "base_uri": "https://localhost:8080/",
     "height": 559
    },
    "executionInfo": {
     "elapsed": 911,
     "status": "ok",
     "timestamp": 1737318635502,
     "user": {
      "displayName": "Ariuna Aiusheeva",
      "userId": "02060270682205182193"
     },
     "user_tz": -180
    },
    "id": "5M95T6dW51bl",
    "outputId": "00d1d8a0-3f99-489a-b35e-373571dbeb3b"
   },
   "outputs": [
    {
     "data": {
      "image/png": "[encoded data removed]",
      "text/plain": [
       "<Figure size 700x600 with 1 Axes>"
      ]
     },
     "metadata": {},
     "output_type": "display_data"
    }
   ],
   "source": [
    "f, ax = plt.subplots(figsize=(7, 6))\n",
    "# ax.set_xscale(\"log\")\n",
    "sns.barplot(data = km_table_with_packs, y = 'ФИО', x = 'Суммарный потенциальный доход');"
   ]
  },
  {
   "cell_type": "markdown",
   "metadata": {
    "id": "SvOZ7MOW-cn3"
   },
   "source": [
    "Видно, что у Достоевского очень большой разрыв произошел, доработаю функцию, чтобы балансировака была по mean и std"
   ]
  },
  {
   "cell_type": "markdown",
   "metadata": {
    "id": "vCi-0Fef_nCP"
   },
   "source": [
    "- попытка улучшить балансировку в обозначенный срок не увенчалась успехом :с,\n",
    "\n",
    "- **но общая идея у меня вокруг того, что необходимо обозначить интервал, за который не должна выходить сумма потенциального дохода в пакете для каждого км. Доверительный интервал следует брать из значения средней и стандартного отклонения (1,2 или 3).**\n",
    "\n",
    "[CI link](https://www.westga.edu/academics/research/vrc/assets/docs/confidence_intervals_notes.pdf)"
   ]
  },
  {
   "cell_type": "code",
   "execution_count": 89,
   "metadata": {
    "colab": {
     "base_uri": "https://localhost:8080/"
    },
    "executionInfo": {
     "elapsed": 277,
     "status": "ok",
     "timestamp": 1737318744145,
     "user": {
      "displayName": "Ariuna Aiusheeva",
      "userId": "02060270682205182193"
     },
     "user_tz": -180
    },
    "id": "pJljQTvARDH8",
    "outputId": "f414e11e-68dd-4cae-e010-2e90a06a7e8b"
   },
   "outputs": [
    {
     "name": "stdout",
     "output_type": "stream",
     "text": [
      "Пакет для Пушкин Александр Сергеевич: 118 ИНН, суммарный доход 675891440\n",
      "Пакет для Гоголь Николай Васильевич: 133 ИНН, суммарный доход 751030054\n",
      "Пакет для Достоевский Федор Михайлович: 92 ИНН, суммарный доход 751046222\n",
      "Пакет для Толстой Лев Николаевич: 110 ИНН, суммарный доход 617920903\n",
      "Пакет для Чехов Антон Павлович: 132 ИНН, суммарный доход 751003848\n"
     ]
    }
   ],
   "source": [
    "# Вывод результатов\n",
    "for km, inns in packages.items():\n",
    "    print(f\"Пакет для {km}: {len(inns)} ИНН, суммарный доход {inn_table.loc[inns]['Потенциальный доход'].sum()}\")"
   ]
  },
  {
   "cell_type": "markdown",
   "metadata": {
    "id": "sGtHyNXLZtmB"
   },
   "source": [
    "#### решение задачи брутфорсом"
   ]
  },
  {
   "cell_type": "markdown",
   "metadata": {
    "id": "GOCcHWKZd3DA"
   },
   "source": [
    "Поскольку известно, что количество уникальных для ГО2 превышает ограничение на 157 штук, то есть как минимум 157 ID будут вне пакетов"
   ]
  },
  {
   "cell_type": "code",
   "execution_count": 90,
   "metadata": {
    "colab": {
     "base_uri": "https://localhost:8080/",
     "height": 206
    },
    "executionInfo": {
     "elapsed": 242,
     "status": "ok",
     "timestamp": 1737304277942,
     "user": {
      "displayName": "Ariuna Aiusheeva",
      "userId": "02060270682205182193"
     },
     "user_tz": -180
    },
    "id": "xKzGSARUZzEY",
    "outputId": "2696c3e7-9384-40a2-9fd1-6b151d383536"
   },
   "outputs": [
    {
     "data": {
      "text/html": [
       "<div>\n",
       "<style scoped>\n",
       "    .dataframe tbody tr th:only-of-type {\n",
       "        vertical-align: middle;\n",
       "    }\n",
       "\n",
       "    .dataframe tbody tr th {\n",
       "        vertical-align: top;\n",
       "    }\n",
       "\n",
       "    .dataframe thead th {\n",
       "        text-align: right;\n",
       "    }\n",
       "</style>\n",
       "<table border=\"1\" class=\"dataframe\">\n",
       "  <thead>\n",
       "    <tr style=\"text-align: right;\">\n",
       "      <th></th>\n",
       "      <th>ИНН</th>\n",
       "      <th>Холдинг</th>\n",
       "      <th>Сотрудничество</th>\n",
       "      <th>Головное отделение</th>\n",
       "      <th>Потенциальный доход</th>\n",
       "      <th>ID</th>\n",
       "    </tr>\n",
       "  </thead>\n",
       "  <tbody>\n",
       "    <tr>\n",
       "      <th>0</th>\n",
       "      <td>14361977</td>\n",
       "      <td>NaN</td>\n",
       "      <td>Клиент</td>\n",
       "      <td>ГО1</td>\n",
       "      <td>5702680</td>\n",
       "      <td>14361977</td>\n",
       "    </tr>\n",
       "    <tr>\n",
       "      <th>1</th>\n",
       "      <td>1454444</td>\n",
       "      <td>NaN</td>\n",
       "      <td>Клиент</td>\n",
       "      <td>ГО2</td>\n",
       "      <td>4129018</td>\n",
       "      <td>1454444</td>\n",
       "    </tr>\n",
       "    <tr>\n",
       "      <th>2</th>\n",
       "      <td>14689141</td>\n",
       "      <td>Холдинг_1</td>\n",
       "      <td>Не клиент</td>\n",
       "      <td>ГО1</td>\n",
       "      <td>9645470</td>\n",
       "      <td>Холдинг_1</td>\n",
       "    </tr>\n",
       "    <tr>\n",
       "      <th>3</th>\n",
       "      <td>14709947</td>\n",
       "      <td>NaN</td>\n",
       "      <td>Не клиент</td>\n",
       "      <td>ГО2</td>\n",
       "      <td>4375217</td>\n",
       "      <td>14709947</td>\n",
       "    </tr>\n",
       "    <tr>\n",
       "      <th>4</th>\n",
       "      <td>14767489</td>\n",
       "      <td>NaN</td>\n",
       "      <td>Не клиент</td>\n",
       "      <td>ГО3</td>\n",
       "      <td>7749114</td>\n",
       "      <td>14767489</td>\n",
       "    </tr>\n",
       "  </tbody>\n",
       "</table>\n",
       "</div>"
      ],
      "text/plain": [
       "        ИНН    Холдинг Сотрудничество Головное отделение  Потенциальный доход  \\\n",
       "0  14361977        NaN         Клиент                ГО1              5702680   \n",
       "1   1454444        NaN         Клиент                ГО2              4129018   \n",
       "2  14689141  Холдинг_1      Не клиент                ГО1              9645470   \n",
       "3  14709947        NaN      Не клиент                ГО2              4375217   \n",
       "4  14767489        NaN      Не клиент                ГО3              7749114   \n",
       "\n",
       "          ID  \n",
       "0   14361977  \n",
       "1    1454444  \n",
       "2  Холдинг_1  \n",
       "3   14709947  \n",
       "4   14767489  "
      ]
     },
     "execution_count": 90,
     "metadata": {},
     "output_type": "execute_result"
    }
   ],
   "source": [
    "inn_table.head()"
   ]
  },
  {
   "cell_type": "code",
   "execution_count": 91,
   "metadata": {
    "id": "fwEbs2RNijlD"
   },
   "outputs": [],
   "source": [
    "def create_packages_bruteforce(inn_table, km_table):\n",
    "    \"\"\"\n",
    "    Создает пакеты ИНН для каждого клиентского менеджера с использованием брутфорса.\n",
    "\n",
    "    Args:\n",
    "        inn_table (pd.DataFrame): DataFrame с данными по ИНН.\n",
    "        km_table (pd.DataFrame): DataFrame с данными по клиентским менеджерам.\n",
    "\n",
    "    Returns:\n",
    "        dict: Словарь, где ключи - ФИО КМ, значения - список ИНН в пакете.\n",
    "    \"\"\"\n",
    "\n",
    "    packages = {km['ФИО']: [] for _, km in km_table.iterrows()}\n",
    "    unassigned_inns = list(inn_table.index)\n",
    "\n",
    "    for _ in range(10000):  # Ограничим количество итераций, чтобы не было бесконечного цикла\n",
    "\n",
    "        if not unassigned_inns or len(unassigned_inns)<=250:\n",
    "            break  # если все ИНН распределены или меньше или равно 250 то выходим\n",
    "\n",
    "        km_idx = random.randint(0, len(km_table) - 1)\n",
    "        km = km_table.iloc[km_idx]\n",
    "\n",
    "        # Получаем список ИНН, которые подходят КМ по головному отделению\n",
    "        eligible_inns = [idx for idx in unassigned_inns if\n",
    "                         inn_table.loc[idx]['Головное отделение'] == km['Головное отделение']]\n",
    "\n",
    "        if not eligible_inns:\n",
    "            continue  # если нет подходящих ИНН, то к следующему КМ\n",
    "        eligible_inns.sort(key=lambda idx: inn_table.loc[idx]['Потенциальный доход'], reverse=True)\n",
    "        # Выбираем случайный ИНН из подходящих\n",
    "        inn_idx = random.choice(eligible_inns)\n",
    "        inn_data = inn_table.loc[inn_idx]\n",
    "\n",
    "        # Создаем временный пакет для проверки условий\n",
    "        temp_package = packages[km['ФИО']] + [inn_idx]\n",
    "        temp_package_data = inn_table.loc[temp_package]\n",
    "\n",
    "        # Проверка на максимальное количество ID\n",
    "        unique_ids = set(temp_package_data['ID'].tolist())\n",
    "        if len(unique_ids) > 150:\n",
    "            continue  # если превысили лимит ID, то к следующему КМ\n",
    "\n",
    "        # Проверка на максимальную долю не клиентов\n",
    "        non_client_count = temp_package_data[temp_package_data['Сотрудничество'] == 'Не клиент'].shape[0]\n",
    "        if len(temp_package) > 0:\n",
    "            non_client_ratio = non_client_count / len(temp_package)\n",
    "        else:\n",
    "            non_client_ratio = 0\n",
    "        if non_client_ratio > 0.35:\n",
    "            continue  # если превысили долю не клиентов, то к следующему КМ\n",
    "\n",
    "        packages[km['ФИО']].append(inn_idx)\n",
    "        unassigned_inns.remove(inn_idx)\n",
    "\n",
    "    # Выводим распределенные и не распределенные ИНН\n",
    "    assigned_inns = []\n",
    "    for km, inns in packages.items():\n",
    "        assigned_inns.extend(inns)\n",
    "\n",
    "    unassigned_inns_after = [inn_idx for inn_idx in inn_table.index if inn_idx not in assigned_inns]\n",
    "    print(f\"Количество нераспределенных ИНН: {len(unassigned_inns_after)}\")\n",
    "\n",
    "    # Балансировка (простой вариант - добавляем случайные ИНН, пока потенциал не будет более-менее равен)\n",
    "    #  Считаем сумму потенциального дохода для каждого КМ\n",
    "    potential_income = {}\n",
    "    for km, inn_indices in packages.items():\n",
    "        potential_income[km] = inn_table.loc[inn_indices]['Потенциальный доход'].sum()\n",
    "\n",
    "    # Вычисляем средний потенциал для КМ\n",
    "    total_potential = sum(potential_income.values())\n",
    "    if len(potential_income) > 0:\n",
    "        average_potential = total_potential / len(potential_income)\n",
    "    else:\n",
    "        average_potential = 0\n",
    "\n",
    "    for km, inn_indices in packages.items():\n",
    "        km_potential = potential_income[km]\n",
    "\n",
    "        # Пытаемся добрать потенциал для КМ, у которого он меньше среднего\n",
    "        if average_potential > 0 and km_potential < average_potential:\n",
    "\n",
    "            eligible_inns = [idx for idx in unassigned_inns_after if inn_table.loc[idx]['Головное отделение'] ==\n",
    "                             km_table[km_table['ФИО'] == km]['Головное отделение'].iloc[0]]\n",
    "            # Сортируем по потенциальному доходу (сначала берем самые выгодные ИНН)\n",
    "            eligible_inns.sort(key=lambda idx: inn_table.loc[idx]['Потенциальный доход'], reverse=True)\n",
    "\n",
    "            for idx in eligible_inns:\n",
    "                temp_package = packages[km] + [idx]\n",
    "                temp_package_data = inn_table.loc[temp_package]\n",
    "                unique_ids = set(temp_package_data['ID'].tolist())\n",
    "\n",
    "                if len(unique_ids) <= 150:\n",
    "                    non_client_count = temp_package_data[temp_package_data['Сотрудничество'] == 'Не клиент'].shape[0]\n",
    "                    if len(temp_package) > 0:\n",
    "                        non_client_ratio = non_client_count / len(temp_package)\n",
    "                    else:\n",
    "                        non_client_ratio = 0\n",
    "\n",
    "                    if non_client_ratio <= 0.35:\n",
    "                        packages[km].append(idx)\n",
    "                        unassigned_inns_after.remove(idx)\n",
    "                        potential_income[km] += inn_table.loc[idx]['Потенциальный доход']\n",
    "                        km_potential = potential_income[km]\n",
    "                        if km_potential >= average_potential:\n",
    "                            break\n",
    "\n",
    "    return packages"
   ]
  },
  {
   "cell_type": "code",
   "execution_count": null,
   "metadata": {
    "colab": {
     "base_uri": "https://localhost:8080/"
    },
    "executionInfo": {
     "elapsed": 268092,
     "status": "ok",
     "timestamp": 1737308396001,
     "user": {
      "displayName": "Ariuna Aiusheeva",
      "userId": "02060270682205182193"
     },
     "user_tz": -180
    },
    "id": "ZC-XGu6EimFz",
    "outputId": "10d7687c-3f9f-42d8-9fee-9bfbf0cc5fb4"
   },
   "outputs": [],
   "source": [
    "packages = create_packages_bruteforce(inn_table, km_table)\n",
    "for km, inns in packages.items():\n",
    "  print(f\"Пакет для КМ {km}: {len(inns)} ИНН\")\n",
    "  package_data = inn_table.loc[inns]\n",
    "  unique_ids = set(package_data['ID'].tolist())\n",
    "  non_client_count = package_data[package_data['Сотрудничество'] == 'Не клиент'].shape[0]\n",
    "  if len(package_data) > 0:\n",
    "    non_client_ratio = non_client_count / len(package_data)\n",
    "  else:\n",
    "    non_client_ratio = 0\n",
    "\n",
    "  total_potential_income = package_data['Потенциальный доход'].sum()\n",
    "  print(f\"  Количество уникальных ID: {len(unique_ids)}\")\n",
    "  print(f\"  Доля не клиентов: {non_client_ratio:.2f}\")\n",
    "  print(f\"  Суммарный потенциальный доход: {total_potential_income}\")\n"
   ]
  }
 ],
 "metadata": {
  "colab": {
   "authorship_tag": "ABX9TyPqSr5GSXXehbxX5b77X7Aq",
   "collapsed_sections": [
    "F4anUH1p-RAo",
    "x5IXE_K3Ab3b",
    "zaDwKU51-yPX",
    "uNGnYuzS-2q7",
    "8ysSxrmNyS0I",
    "kNg4ZBwby95D",
    "sGtHyNXLZtmB"
   ],
   "provenance": [],
   "toc_visible": true
  },
  "kernelspec": {
   "display_name": ".venv",
   "language": "python",
   "name": "python3"
  },
  "language_info": {
   "codemirror_mode": {
    "name": "ipython",
    "version": 3
   },
   "file_extension": ".py",
   "mimetype": "text/x-python",
   "name": "python",
   "nbconvert_exporter": "python",
   "pygments_lexer": "ipython3",
   "version": "3.10.15"
  }
 },
 "nbformat": 4,
 "nbformat_minor": 0
}
